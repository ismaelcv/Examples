{
 "cells": [
  {
   "cell_type": "code",
   "execution_count": 62,
   "metadata": {},
   "outputs": [],
   "source": [
    "## Import Libraries\n",
    "# install.packages(\"scatterplot3d\",repos = \"http://cran.us.r-project.org\")\n",
    "\n",
    "library(plotly)\n",
    "library(ggplot2) ## Load ggplot2\n",
    "library('ggthemes') # visualization themes\n",
    "\n",
    "Sys.setenv(\"plotly_username\"=\"ismaelcv\")\n",
    "Sys.setenv(\"plotly_api_key\"=\"mPu4vLCVRK5jM10YwOAl\")\n",
    "\n"
   ]
  },
  {
   "cell_type": "markdown",
   "metadata": {},
   "source": [
    "### Computer Exercises\n",
    "\n",
    "#### 1.Use the data in wage1.csv for this exercise"
   ]
  },
  {
   "cell_type": "code",
   "execution_count": 4,
   "metadata": {},
   "outputs": [
    {
     "data": {
      "text/html": [
       "<table>\n",
       "<thead><tr><th scope=col>wage</th><th scope=col>educ</th><th scope=col>exper</th><th scope=col>tenure</th><th scope=col>nonwhite</th><th scope=col>female</th><th scope=col>married</th><th scope=col>numdep</th><th scope=col>smsa</th><th scope=col>northcen</th><th scope=col>...</th><th scope=col>trcommpu</th><th scope=col>trade</th><th scope=col>services</th><th scope=col>profserv</th><th scope=col>profocc</th><th scope=col>clerocc</th><th scope=col>servocc</th><th scope=col>lwage</th><th scope=col>expersq</th><th scope=col>tenursq</th></tr></thead>\n",
       "<tbody>\n",
       "\t<tr><td>3.10    </td><td>11      </td><td> 2      </td><td> 0      </td><td>0       </td><td>1       </td><td>0       </td><td>2       </td><td>1       </td><td>0       </td><td>...     </td><td>0       </td><td>0       </td><td>0       </td><td>0       </td><td>0       </td><td>0       </td><td>0       </td><td>1.131402</td><td>   4    </td><td>  0     </td></tr>\n",
       "\t<tr><td>3.24    </td><td>12      </td><td>22      </td><td> 2      </td><td>0       </td><td>1       </td><td>1       </td><td>3       </td><td>1       </td><td>0       </td><td>...     </td><td>0       </td><td>0       </td><td>1       </td><td>0       </td><td>0       </td><td>0       </td><td>1       </td><td>1.175573</td><td> 484    </td><td>  4     </td></tr>\n",
       "\t<tr><td>3.00    </td><td>11      </td><td> 2      </td><td> 0      </td><td>0       </td><td>0       </td><td>0       </td><td>2       </td><td>0       </td><td>0       </td><td>...     </td><td>0       </td><td>1       </td><td>0       </td><td>0       </td><td>0       </td><td>0       </td><td>0       </td><td>1.098612</td><td>   4    </td><td>  0     </td></tr>\n",
       "\t<tr><td>6.00    </td><td> 8      </td><td>44      </td><td>28      </td><td>0       </td><td>0       </td><td>1       </td><td>0       </td><td>1       </td><td>0       </td><td>...     </td><td>0       </td><td>0       </td><td>0       </td><td>0       </td><td>0       </td><td>1       </td><td>0       </td><td>1.791759</td><td>1936    </td><td>784     </td></tr>\n",
       "\t<tr><td>5.30    </td><td>12      </td><td> 7      </td><td> 2      </td><td>0       </td><td>0       </td><td>1       </td><td>1       </td><td>0       </td><td>0       </td><td>...     </td><td>0       </td><td>0       </td><td>0       </td><td>0       </td><td>0       </td><td>0       </td><td>0       </td><td>1.667707</td><td>  49    </td><td>  4     </td></tr>\n",
       "\t<tr><td>8.75    </td><td>16      </td><td> 9      </td><td> 8      </td><td>0       </td><td>0       </td><td>1       </td><td>0       </td><td>1       </td><td>0       </td><td>...     </td><td>0       </td><td>0       </td><td>0       </td><td>1       </td><td>1       </td><td>0       </td><td>0       </td><td>2.169054</td><td>  81    </td><td> 64     </td></tr>\n",
       "</tbody>\n",
       "</table>\n"
      ],
      "text/latex": [
       "\\begin{tabular}{r|llllllllllllllllllllllll}\n",
       " wage & educ & exper & tenure & nonwhite & female & married & numdep & smsa & northcen & ... & trcommpu & trade & services & profserv & profocc & clerocc & servocc & lwage & expersq & tenursq\\\\\n",
       "\\hline\n",
       "\t 3.10     & 11       &  2       &  0       & 0        & 1        & 0        & 2        & 1        & 0        & ...      & 0        & 0        & 0        & 0        & 0        & 0        & 0        & 1.131402 &    4     &   0     \\\\\n",
       "\t 3.24     & 12       & 22       &  2       & 0        & 1        & 1        & 3        & 1        & 0        & ...      & 0        & 0        & 1        & 0        & 0        & 0        & 1        & 1.175573 &  484     &   4     \\\\\n",
       "\t 3.00     & 11       &  2       &  0       & 0        & 0        & 0        & 2        & 0        & 0        & ...      & 0        & 1        & 0        & 0        & 0        & 0        & 0        & 1.098612 &    4     &   0     \\\\\n",
       "\t 6.00     &  8       & 44       & 28       & 0        & 0        & 1        & 0        & 1        & 0        & ...      & 0        & 0        & 0        & 0        & 0        & 1        & 0        & 1.791759 & 1936     & 784     \\\\\n",
       "\t 5.30     & 12       &  7       &  2       & 0        & 0        & 1        & 1        & 0        & 0        & ...      & 0        & 0        & 0        & 0        & 0        & 0        & 0        & 1.667707 &   49     &   4     \\\\\n",
       "\t 8.75     & 16       &  9       &  8       & 0        & 0        & 1        & 0        & 1        & 0        & ...      & 0        & 0        & 0        & 1        & 1        & 0        & 0        & 2.169054 &   81     &  64     \\\\\n",
       "\\end{tabular}\n"
      ],
      "text/markdown": [
       "\n",
       "wage | educ | exper | tenure | nonwhite | female | married | numdep | smsa | northcen | ... | trcommpu | trade | services | profserv | profocc | clerocc | servocc | lwage | expersq | tenursq | \n",
       "|---|---|---|---|---|---|\n",
       "| 3.10     | 11       |  2       |  0       | 0        | 1        | 0        | 2        | 1        | 0        | ...      | 0        | 0        | 0        | 0        | 0        | 0        | 0        | 1.131402 |    4     |   0      | \n",
       "| 3.24     | 12       | 22       |  2       | 0        | 1        | 1        | 3        | 1        | 0        | ...      | 0        | 0        | 1        | 0        | 0        | 0        | 1        | 1.175573 |  484     |   4      | \n",
       "| 3.00     | 11       |  2       |  0       | 0        | 0        | 0        | 2        | 0        | 0        | ...      | 0        | 1        | 0        | 0        | 0        | 0        | 0        | 1.098612 |    4     |   0      | \n",
       "| 6.00     |  8       | 44       | 28       | 0        | 0        | 1        | 0        | 1        | 0        | ...      | 0        | 0        | 0        | 0        | 0        | 1        | 0        | 1.791759 | 1936     | 784      | \n",
       "| 5.30     | 12       |  7       |  2       | 0        | 0        | 1        | 1        | 0        | 0        | ...      | 0        | 0        | 0        | 0        | 0        | 0        | 0        | 1.667707 |   49     |   4      | \n",
       "| 8.75     | 16       |  9       |  8       | 0        | 0        | 1        | 0        | 1        | 0        | ...      | 0        | 0        | 0        | 1        | 1        | 0        | 0        | 2.169054 |   81     |  64      | \n",
       "\n",
       "\n"
      ],
      "text/plain": [
       "  wage educ exper tenure nonwhite female married numdep smsa northcen ...\n",
       "1 3.10 11    2     0     0        1      0       2      1    0        ...\n",
       "2 3.24 12   22     2     0        1      1       3      1    0        ...\n",
       "3 3.00 11    2     0     0        0      0       2      0    0        ...\n",
       "4 6.00  8   44    28     0        0      1       0      1    0        ...\n",
       "5 5.30 12    7     2     0        0      1       1      0    0        ...\n",
       "6 8.75 16    9     8     0        0      1       0      1    0        ...\n",
       "  trcommpu trade services profserv profocc clerocc servocc lwage    expersq\n",
       "1 0        0     0        0        0       0       0       1.131402    4   \n",
       "2 0        0     1        0        0       0       1       1.175573  484   \n",
       "3 0        1     0        0        0       0       0       1.098612    4   \n",
       "4 0        0     0        0        0       1       0       1.791759 1936   \n",
       "5 0        0     0        0        0       0       0       1.667707   49   \n",
       "6 0        0     0        1        1       0       0       2.169054   81   \n",
       "  tenursq\n",
       "1   0    \n",
       "2   4    \n",
       "3   0    \n",
       "4 784    \n",
       "5   4    \n",
       "6  64    "
      ]
     },
     "metadata": {},
     "output_type": "display_data"
    }
   ],
   "source": [
    "wages <- read.csv(\"wage.csv\")\n",
    "head(wages)"
   ]
  },
  {
   "cell_type": "markdown",
   "metadata": {},
   "source": [
    "a) Use OLS to estimate the equation:\n",
    "\n",
    "$$log(wage) = \\beta_{1} + \\beta_{2}educ +\\beta_{3}exper + \\beta_{4}exper^{2}+\\epsilon$$"
   ]
  },
  {
   "cell_type": "code",
   "execution_count": 5,
   "metadata": {},
   "outputs": [
    {
     "name": "stdout",
     "output_type": "stream",
     "text": [
      " Named num [1:4] 0.127998 0.090366 0.041009 -0.000714\n",
      " - attr(*, \"names\")= chr [1:4] \"(Intercept)\" \"educ\" \"exper\" \"I(exper^2)\"\n"
     ]
    }
   ],
   "source": [
    "# run a linear regression\n",
    "reg <- lm(log(wage)~educ+exper+I(exper^2),wages)\n",
    "str(reg $ coefficients)"
   ]
  },
  {
   "cell_type": "code",
   "execution_count": 6,
   "metadata": {},
   "outputs": [
    {
     "data": {
      "text/html": [
       "<table>\n",
       "<thead><tr><th scope=col>wage</th><th scope=col>wagec</th></tr></thead>\n",
       "<tbody>\n",
       "\t<tr><td>3.10    </td><td>3.324054</td></tr>\n",
       "\t<tr><td>3.24    </td><td>5.866278</td></tr>\n",
       "\t<tr><td>3.00    </td><td>3.324054</td></tr>\n",
       "\t<tr><td>6.00    </td><td>3.574645</td></tr>\n",
       "\t<tr><td>5.30    </td><td>4.325315</td></tr>\n",
       "\t<tr><td>8.75    </td><td>6.587225</td></tr>\n",
       "</tbody>\n",
       "</table>\n"
      ],
      "text/latex": [
       "\\begin{tabular}{r|ll}\n",
       " wage & wagec\\\\\n",
       "\\hline\n",
       "\t 3.10     & 3.324054\\\\\n",
       "\t 3.24     & 5.866278\\\\\n",
       "\t 3.00     & 3.324054\\\\\n",
       "\t 6.00     & 3.574645\\\\\n",
       "\t 5.30     & 4.325315\\\\\n",
       "\t 8.75     & 6.587225\\\\\n",
       "\\end{tabular}\n"
      ],
      "text/markdown": [
       "\n",
       "wage | wagec | \n",
       "|---|---|---|---|---|---|\n",
       "| 3.10     | 3.324054 | \n",
       "| 3.24     | 5.866278 | \n",
       "| 3.00     | 3.324054 | \n",
       "| 6.00     | 3.574645 | \n",
       "| 5.30     | 4.325315 | \n",
       "| 8.75     | 6.587225 | \n",
       "\n",
       "\n"
      ],
      "text/plain": [
       "  wage wagec   \n",
       "1 3.10 3.324054\n",
       "2 3.24 5.866278\n",
       "3 3.00 3.324054\n",
       "4 6.00 3.574645\n",
       "5 5.30 4.325315\n",
       "6 8.75 6.587225"
      ]
     },
     "metadata": {},
     "output_type": "display_data"
    }
   ],
   "source": [
    "wages$wageclog <- reg$coefficients[1] + reg$coefficients[2]*wages$educ + reg$coefficients[3]*wages$exper + reg$coefficients[4] * wages$exper^2\n",
    "wages$wagec <- exp(wages$wageclog)\n",
    "head(wages[,c(\"wage\",\"wagec\")])"
   ]
  },
  {
   "cell_type": "code",
   "execution_count": 7,
   "metadata": {
    "collapsed": true
   },
   "outputs": [],
   "source": [
    "real <- wages[,c(\"wage\",\"educ\",\"exper\")]\n",
    "real$type <- \"Real\"\n",
    "\n",
    "calculated <- wages[,c(\"wagec\",\"educ\",\"exper\")]\n",
    "calculated$type <- \"Calculated\"\n",
    "colnames(calculated)[1] <- \"wage\"\n",
    "\n",
    "all <- rbind(real,calculated)"
   ]
  },
  {
   "cell_type": "code",
   "execution_count": 64,
   "metadata": {
    "scrolled": false
   },
   "outputs": [
    {
     "data": {
      "text/html": [
       "<iframe src=\"plotlyJupyterHTML/54ab81e2c31b6e55bf1d9fe4deae05c5.html\" width=\"800\" height=\"800\" id=\"igraph\" scrolling=\"no\" seamless=\"seamless\" frameBorder=\"0\"> </iframe>"
      ]
     },
     "metadata": {},
     "output_type": "display_data"
    },
    {
     "name": "stderr",
     "output_type": "stream",
     "text": [
      "No encoding supplied: defaulting to UTF-8.\n",
      "Success! Modified your plotly here -> https://plot.ly/~ismaelcv/1\n"
     ]
    },
    {
     "data": {},
     "metadata": {},
     "output_type": "display_data"
    }
   ],
   "source": [
    "options(repr.plot.width=12, repr.plot.height=20)\n",
    "\n",
    "p <- plot_ly(all, x = ~educ, y = ~exper, z = ~wage, color = ~type, colors = c('#BF382A', '#0C4B8E'),    height=800,\n",
    "    width=800,  marker = list(size = 5)) %>%\n",
    "  add_markers() %>%\n",
    "  layout(scene = list(xaxis = list(title = 'Education'),\n",
    "                     yaxis = list(title = 'Experience'),\n",
    "                     zaxis = list(title = 'Wage')),\n",
    "                     autosize = T)\n",
    "\n",
    "\n",
    "embed_notebook(p)\n",
    "\n",
    "chart_link = plotly_POST(p, filename=\"scatter\")\n",
    "chart_link"
   ]
  },
  {
   "cell_type": "code",
   "execution_count": 24,
   "metadata": {},
   "outputs": [
    {
     "data": {
      "text/plain": [
       "\n",
       "Call:\n",
       "lm(formula = log(wage) ~ educ + exper + I(exper^2), data = wages)\n",
       "\n",
       "Residuals:\n",
       "     Min       1Q   Median       3Q      Max \n",
       "-1.96387 -0.29375 -0.04009  0.29497  1.30216 \n",
       "\n",
       "Coefficients:\n",
       "              Estimate Std. Error t value Pr(>|t|)    \n",
       "(Intercept)  0.1279975  0.1059323   1.208    0.227    \n",
       "educ         0.0903658  0.0074680  12.100  < 2e-16 ***\n",
       "exper        0.0410089  0.0051965   7.892 1.77e-14 ***\n",
       "I(exper^2)  -0.0007136  0.0001158  -6.164 1.42e-09 ***\n",
       "---\n",
       "Signif. codes:  0 '***' 0.001 '**' 0.01 '*' 0.05 '.' 0.1 ' ' 1\n",
       "\n",
       "Residual standard error: 0.4459 on 522 degrees of freedom\n",
       "Multiple R-squared:  0.3003,\tAdjusted R-squared:  0.2963 \n",
       "F-statistic: 74.67 on 3 and 522 DF,  p-value: < 2.2e-16\n"
      ]
     },
     "metadata": {},
     "output_type": "display_data"
    }
   ],
   "source": [
    "summary(lm(log(wage)~educ+exper+I(exper^2),wages))"
   ]
  },
  {
   "cell_type": "code",
   "execution_count": 60,
   "metadata": {},
   "outputs": [
    {
     "data": {},
     "metadata": {},
     "output_type": "display_data"
    },
    {
     "data": {
      "image/png": "[encoded data removed]",
      "text/plain": [
       "plot without title"
      ]
     },
     "metadata": {},
     "output_type": "display_data"
    }
   ],
   "source": [
    "options(repr.plot.width=10, repr.plot.height=3) #Graph sizing in jupyter,for rstudio is not required\n",
    "\n",
    "x <- seq(-13,13, length = 5000)\n",
    "dat <- data.frame(x=x, y=dnorm(x))\n",
    "z=12.10 \n",
    "right = paste(round(pnorm(abs(z))*100,0),\"%\",sep=\"\") #pnorm coverts z to a probability\n",
    "left = paste(round(pnorm(-abs(z))*100,0),\"%\",sep=\"\") # multiply by 2 for 2 tailed\n",
    "\n",
    "title = \"\"\n",
    "xaxis = 't'\n",
    "yaxis = 'Density'\n",
    "\n",
    "d=data.frame(x=c(z), y=c(.05), vx=c(0), vy=c(-.05))\n",
    "\n",
    "\n",
    "\n",
    "#options(warn=-1)\n",
    "ggplot(dat, aes(x = x, y = y)) + geom_line(size = 0.7)+scale_y_continuous(limits=c(0,max(dat$y))) +  \n",
    "    theme_few() + #minimalistic theme\n",
    "    layer(\"area\", stat=\"identity\", position=\"identity\", \n",
    "          mapping = aes(x=ifelse(x<(-1.96),x,NA)),\n",
    "          params=list(fill=\"red\",alpha=.5, na.rm=TRUE)) + \n",
    "    layer(\"area\", stat=\"identity\", position=\"identity\", \n",
    "          mapping = aes(x=ifelse(x>(1.96),x,NA)),\n",
    "          params=list(fill=\"red\",alpha=.5, na.rm=TRUE)) + \n",
    "    geom_segment(data=d, mapping=aes(x=x, y=y, xend=x+vx, yend=y+vy), arrow=arrow(length=unit(0.30,\"cm\"))) +\n",
    "#     geom_line(aes(x=z),size=.5,colour=\"blue\") + # adds z line\n",
    "    geom_text(mapping=aes(x2,y2,label = text2), data=data.frame(x2=z, y2=0.07, text2=\"tobs=12.1\"), size=3) +\n",
    "    ylab(yaxis) + xlab(xaxis) +  ggtitle(title) +  #add titles and axis\n",
    "    theme(plot.title = element_text(size = 9,hjust = 0.5)) + #title properties\n",
    "    theme(axis.title.y = element_text(size = 9,hjust = 0.5)) + #y axis properties\n",
    "    theme(axis.title.x = element_text(size = 9,hjust = 0.5)) +  #x axis properties\n",
    "    theme(text = element_text(size=9)) #axis font size"
   ]
  },
  {
   "cell_type": "code",
   "execution_count": 1,
   "metadata": {},
   "outputs": [
    {
     "data": {
      "text/html": [
       "2.30258509299405"
      ],
      "text/latex": [
       "2.30258509299405"
      ],
      "text/markdown": [
       "2.30258509299405"
      ],
      "text/plain": [
       "[1] 2.302585"
      ]
     },
     "metadata": {},
     "output_type": "display_data"
    }
   ],
   "source": [
    "log(10)"
   ]
  },
  {
   "cell_type": "code",
   "execution_count": 3,
   "metadata": {},
   "outputs": [
    {
     "data": {
      "text/html": [
       "9.97418245481472"
      ],
      "text/latex": [
       "9.97418245481472"
      ],
      "text/markdown": [
       "9.97418245481472"
      ],
      "text/plain": [
       "[1] 9.974182"
      ]
     },
     "metadata": {},
     "output_type": "display_data"
    }
   ],
   "source": [
    "exp(2.30)"
   ]
  },
  {
   "cell_type": "code",
   "execution_count": null,
   "metadata": {
    "collapsed": true
   },
   "outputs": [],
   "source": []
  }
 ],
 "metadata": {
  "kernelspec": {
   "display_name": "R",
   "language": "R",
   "name": "ir"
  },
  "language_info": {
   "codemirror_mode": "r",
   "file_extension": ".r",
   "mimetype": "text/x-r-source",
   "name": "R",
   "pygments_lexer": "r",
   "version": "3.3.2"
  }
 },
 "nbformat": 4,
 "nbformat_minor": 2
}
