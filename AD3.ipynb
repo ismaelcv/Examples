{
 "cells": [
  {
   "cell_type": "markdown",
   "metadata": {},
   "source": [
    "### 1. Import libraries"
   ]
  },
  {
   "cell_type": "code",
   "execution_count": 2,
   "metadata": {},
   "outputs": [
    {
     "name": "stderr",
     "output_type": "stream",
     "text": [
      "Warning message:\n",
      "\"package 'gridExtra' was built under R version 3.4.4\"Warning message:\n",
      "\"package 'bestNormalize' was built under R version 3.4.4\"Warning message:\n",
      "\"package 'ggthemes' was built under R version 3.4.4\""
     ]
    }
   ],
   "source": [
    "# install.packages(\"bestNormalize\",repos = \"http://cran.us.r-project.org\")\n",
    "\n",
    "library(ggplot2) #visualization\n",
    "library(grid)\n",
    "library(gridExtra)\n",
    "library(bestNormalize)\n",
    "library(ggthemes) # visualization themes"
   ]
  },
  {
   "cell_type": "markdown",
   "metadata": {},
   "source": [
    "### 2. Import dataset"
   ]
  },
  {
   "cell_type": "code",
   "execution_count": 3,
   "metadata": {},
   "outputs": [
    {
     "data": {
      "text/html": [
       "<table>\n",
       "<thead><tr><th scope=col>conversion</th><th scope=col>conversionAjustada2punto2Kg</th><th scope=col>mortalidadPor</th><th scope=col>noDePollosMuertos</th><th scope=col>pesoFinalPolloG</th><th scope=col>gananciaPesoDiaG</th><th scope=col>AD3Engrode</th><th scope=col>AD3Inicio</th><th scope=col>AD3Preinicio</th><th scope=col>consumoAjustadoA2punto2Kg</th><th scope=col>consumoDiaPolloG</th><th scope=col>consumoTotalPolloG</th><th scope=col>duracionEngordeDias</th><th scope=col>ea</th><th scope=col>edadAjustadaA2punto2Kg</th><th scope=col>edadEnDias</th><th scope=col>feep</th><th scope=col>ip</th><th scope=col>n</th><th scope=col>noPollitos</th></tr></thead>\n",
       "<tbody>\n",
       "\t<tr><td>1.80   </td><td>1.82   </td><td>0.02   </td><td> 2843  </td><td>2141.63</td><td>52.75  </td><td>0      </td><td>0      </td><td>0      </td><td>4001.00</td><td>95.00  </td><td>3857.17</td><td>40.6   </td><td>118.91 </td><td>41.33  </td><td>41     </td><td>292.88 </td><td>66.02  </td><td> 2     </td><td>127660 </td></tr>\n",
       "\t<tr><td>1.73   </td><td>1.70   </td><td>0.03   </td><td> 1597  </td><td>2339.01</td><td>53.77  </td><td>0      </td><td>0      </td><td>0      </td><td>3729.18</td><td>93.07  </td><td>4048.43</td><td>43.5   </td><td>135.14 </td><td>41.77  </td><td>44     </td><td>310.66 </td><td>78.08  </td><td>13     </td><td> 61472 </td></tr>\n",
       "\t<tr><td>1.77   </td><td>1.77   </td><td>0.02   </td><td> 2357  </td><td>2212.36</td><td>53.70  </td><td>0      </td><td>0      </td><td>0      </td><td>3885.39</td><td>95.02  </td><td>3914.98</td><td>41.2   </td><td>125.02 </td><td>41.05  </td><td>41     </td><td>303.45 </td><td>70.65  </td><td>11     </td><td>101719 </td></tr>\n",
       "\t<tr><td>1.72   </td><td>1.72   </td><td>0.09   </td><td>15794  </td><td>2192.94</td><td>53.49  </td><td>0      </td><td>0      </td><td>0      </td><td>3783.72</td><td>91.88  </td><td>3767.27</td><td>41.0   </td><td>127.65 </td><td>41.09  </td><td>41     </td><td>311.35 </td><td>74.31  </td><td>29     </td><td>180847 </td></tr>\n",
       "\t<tr><td>1.70   </td><td>1.68   </td><td>0.04   </td><td> 3155  </td><td>2276.53</td><td>55.53  </td><td>0      </td><td>0      </td><td>0      </td><td>3685.28</td><td>94.12  </td><td>3858.96</td><td>41.0   </td><td>134.30 </td><td>40.09  </td><td>41     </td><td>327.56 </td><td>79.23  </td><td>38     </td><td> 84493 </td></tr>\n",
       "\t<tr><td>1.75   </td><td>1.71   </td><td>0.04   </td><td> 8553  </td><td>2385.27</td><td>55.99  </td><td>0      </td><td>0      </td><td>0      </td><td>3748.76</td><td>98.04  </td><td>4176.50</td><td>42.6   </td><td>136.23 </td><td>40.37  </td><td>43     </td><td>319.78 </td><td>77.80  </td><td>17     </td><td>220491 </td></tr>\n",
       "</tbody>\n",
       "</table>\n"
      ],
      "text/latex": [
       "\\begin{tabular}{r|llllllllllllllllllll}\n",
       " conversion & conversionAjustada2punto2Kg & mortalidadPor & noDePollosMuertos & pesoFinalPolloG & gananciaPesoDiaG & AD3Engrode & AD3Inicio & AD3Preinicio & consumoAjustadoA2punto2Kg & consumoDiaPolloG & consumoTotalPolloG & duracionEngordeDias & ea & edadAjustadaA2punto2Kg & edadEnDias & feep & ip & n & noPollitos\\\\\n",
       "\\hline\n",
       "\t 1.80    & 1.82    & 0.02    &  2843   & 2141.63 & 52.75   & 0       & 0       & 0       & 4001.00 & 95.00   & 3857.17 & 40.6    & 118.91  & 41.33   & 41      & 292.88  & 66.02   &  2      & 127660 \\\\\n",
       "\t 1.73    & 1.70    & 0.03    &  1597   & 2339.01 & 53.77   & 0       & 0       & 0       & 3729.18 & 93.07   & 4048.43 & 43.5    & 135.14  & 41.77   & 44      & 310.66  & 78.08   & 13      &  61472 \\\\\n",
       "\t 1.77    & 1.77    & 0.02    &  2357   & 2212.36 & 53.70   & 0       & 0       & 0       & 3885.39 & 95.02   & 3914.98 & 41.2    & 125.02  & 41.05   & 41      & 303.45  & 70.65   & 11      & 101719 \\\\\n",
       "\t 1.72    & 1.72    & 0.09    & 15794   & 2192.94 & 53.49   & 0       & 0       & 0       & 3783.72 & 91.88   & 3767.27 & 41.0    & 127.65  & 41.09   & 41      & 311.35  & 74.31   & 29      & 180847 \\\\\n",
       "\t 1.70    & 1.68    & 0.04    &  3155   & 2276.53 & 55.53   & 0       & 0       & 0       & 3685.28 & 94.12   & 3858.96 & 41.0    & 134.30  & 40.09   & 41      & 327.56  & 79.23   & 38      &  84493 \\\\\n",
       "\t 1.75    & 1.71    & 0.04    &  8553   & 2385.27 & 55.99   & 0       & 0       & 0       & 3748.76 & 98.04   & 4176.50 & 42.6    & 136.23  & 40.37   & 43      & 319.78  & 77.80   & 17      & 220491 \\\\\n",
       "\\end{tabular}\n"
      ],
      "text/markdown": [
       "\n",
       "conversion | conversionAjustada2punto2Kg | mortalidadPor | noDePollosMuertos | pesoFinalPolloG | gananciaPesoDiaG | AD3Engrode | AD3Inicio | AD3Preinicio | consumoAjustadoA2punto2Kg | consumoDiaPolloG | consumoTotalPolloG | duracionEngordeDias | ea | edadAjustadaA2punto2Kg | edadEnDias | feep | ip | n | noPollitos | \n",
       "|---|---|---|---|---|---|\n",
       "| 1.80    | 1.82    | 0.02    |  2843   | 2141.63 | 52.75   | 0       | 0       | 0       | 4001.00 | 95.00   | 3857.17 | 40.6    | 118.91  | 41.33   | 41      | 292.88  | 66.02   |  2      | 127660  | \n",
       "| 1.73    | 1.70    | 0.03    |  1597   | 2339.01 | 53.77   | 0       | 0       | 0       | 3729.18 | 93.07   | 4048.43 | 43.5    | 135.14  | 41.77   | 44      | 310.66  | 78.08   | 13      |  61472  | \n",
       "| 1.77    | 1.77    | 0.02    |  2357   | 2212.36 | 53.70   | 0       | 0       | 0       | 3885.39 | 95.02   | 3914.98 | 41.2    | 125.02  | 41.05   | 41      | 303.45  | 70.65   | 11      | 101719  | \n",
       "| 1.72    | 1.72    | 0.09    | 15794   | 2192.94 | 53.49   | 0       | 0       | 0       | 3783.72 | 91.88   | 3767.27 | 41.0    | 127.65  | 41.09   | 41      | 311.35  | 74.31   | 29      | 180847  | \n",
       "| 1.70    | 1.68    | 0.04    |  3155   | 2276.53 | 55.53   | 0       | 0       | 0       | 3685.28 | 94.12   | 3858.96 | 41.0    | 134.30  | 40.09   | 41      | 327.56  | 79.23   | 38      |  84493  | \n",
       "| 1.75    | 1.71    | 0.04    |  8553   | 2385.27 | 55.99   | 0       | 0       | 0       | 3748.76 | 98.04   | 4176.50 | 42.6    | 136.23  | 40.37   | 43      | 319.78  | 77.80   | 17      | 220491  | \n",
       "\n",
       "\n"
      ],
      "text/plain": [
       "  conversion conversionAjustada2punto2Kg mortalidadPor noDePollosMuertos\n",
       "1 1.80       1.82                        0.02           2843            \n",
       "2 1.73       1.70                        0.03           1597            \n",
       "3 1.77       1.77                        0.02           2357            \n",
       "4 1.72       1.72                        0.09          15794            \n",
       "5 1.70       1.68                        0.04           3155            \n",
       "6 1.75       1.71                        0.04           8553            \n",
       "  pesoFinalPolloG gananciaPesoDiaG AD3Engrode AD3Inicio AD3Preinicio\n",
       "1 2141.63         52.75            0          0         0           \n",
       "2 2339.01         53.77            0          0         0           \n",
       "3 2212.36         53.70            0          0         0           \n",
       "4 2192.94         53.49            0          0         0           \n",
       "5 2276.53         55.53            0          0         0           \n",
       "6 2385.27         55.99            0          0         0           \n",
       "  consumoAjustadoA2punto2Kg consumoDiaPolloG consumoTotalPolloG\n",
       "1 4001.00                   95.00            3857.17           \n",
       "2 3729.18                   93.07            4048.43           \n",
       "3 3885.39                   95.02            3914.98           \n",
       "4 3783.72                   91.88            3767.27           \n",
       "5 3685.28                   94.12            3858.96           \n",
       "6 3748.76                   98.04            4176.50           \n",
       "  duracionEngordeDias ea     edadAjustadaA2punto2Kg edadEnDias feep   ip    n \n",
       "1 40.6                118.91 41.33                  41         292.88 66.02  2\n",
       "2 43.5                135.14 41.77                  44         310.66 78.08 13\n",
       "3 41.2                125.02 41.05                  41         303.45 70.65 11\n",
       "4 41.0                127.65 41.09                  41         311.35 74.31 29\n",
       "5 41.0                134.30 40.09                  41         327.56 79.23 38\n",
       "6 42.6                136.23 40.37                  43         319.78 77.80 17\n",
       "  noPollitos\n",
       "1 127660    \n",
       "2  61472    \n",
       "3 101719    \n",
       "4 180847    \n",
       "5  84493    \n",
       "6 220491    "
      ]
     },
     "metadata": {},
     "output_type": "display_data"
    }
   ],
   "source": [
    "ad3 <- read.csv(\"AD3.csv\", stringsAsFactors = FALSE)\n",
    "head(ad3)"
   ]
  },
  {
   "cell_type": "code",
   "execution_count": 5,
   "metadata": {
    "scrolled": false
   },
   "outputs": [
    {
     "data": {
      "text/html": [
       "'mortalidadPor'"
      ],
      "text/latex": [
       "'mortalidadPor'"
      ],
      "text/markdown": [
       "'mortalidadPor'"
      ],
      "text/plain": [
       "[1] \"mortalidadPor\""
      ]
     },
     "metadata": {},
     "output_type": "display_data"
    },
    {
     "data": {
      "text/plain": [
       "\n",
       "0.04 0.03 0.05 0.06 0.07 0.02 0.08 0.09  0.1 0.11 \n",
       " 707  684  572  414  294  224  174  133   93   75 "
      ]
     },
     "metadata": {},
     "output_type": "display_data"
    }
   ],
   "source": [
    "i <- 3\n",
    "colnames(ad3[i])\n",
    "head(sort(table(ad3[i],useNA = \"always\"),decreasing = TRUE),10)"
   ]
  },
  {
   "cell_type": "code",
   "execution_count": 6,
   "metadata": {},
   "outputs": [
    {
     "data": {
      "text/html": [
       "80"
      ],
      "text/latex": [
       "80"
      ],
      "text/markdown": [
       "80"
      ],
      "text/plain": [
       "[1] 80"
      ]
     },
     "metadata": {},
     "output_type": "display_data"
    },
    {
     "data": {
      "text/html": [
       "1904"
      ],
      "text/latex": [
       "1904"
      ],
      "text/markdown": [
       "1904"
      ],
      "text/plain": [
       "[1] 1904"
      ]
     },
     "metadata": {},
     "output_type": "display_data"
    },
    {
     "data": {
      "text/html": [
       "34"
      ],
      "text/latex": [
       "34"
      ],
      "text/markdown": [
       "34"
      ],
      "text/plain": [
       "[1] 34"
      ]
     },
     "metadata": {},
     "output_type": "display_data"
    }
   ],
   "source": [
    "#number of observations per aditive\n",
    "sum(ad3$AD3Engrode)\n",
    "sum(ad3$AD3Inicio)\n",
    "sum(ad3$AD3Preinicio)"
   ]
  },
  {
   "cell_type": "markdown",
   "metadata": {},
   "source": [
    "### 3. Prueba estadistica del Peso final en relacion de aplicacion de aditivos\n",
    "\n",
    "El primer paso para realizar esta prueba es asegurarse de que la muestra de pesos siga una distribicion normal."
   ]
  },
  {
   "cell_type": "code",
   "execution_count": 7,
   "metadata": {},
   "outputs": [
    {
     "data": {
      "image/png": "[encoded data removed]",
      "text/plain": [
       "plot without title"
      ]
     },
     "metadata": {},
     "output_type": "display_data",
     "source": "R display func"
    }
   ],
   "source": [
    "#Distribucion original del peso. Ligeramente inclinada hacia la izquierda\n",
    "v1 <- ad3[ad3$pesoFinalPolloG>0 & !is.na(ad3$pesoFinalPolloG),\"pesoFinalPolloG\"]\n",
    "p1 <-ggplot(data.frame(x=v1), aes(x)) + \n",
    "    theme(legend.position = \"none\") + \n",
    "    geom_histogram(aes(y = ..density..), colour = \"black\", fill = \"white\", binwidth = 75) + \n",
    "    labs(x = \"Peso Final\", y = \"Density\") + \n",
    "    stat_function(fun = dnorm, args = list(mean = mean(v1, na.rm = TRUE), sd = sd(v1, na.rm = TRUE)), size = 0.4)\n",
    "\n",
    "#QQ plot de la distribucion original\n",
    "p2 <-qplot(sample = v1)\n",
    "\n",
    "#Distribucion corregida por logaritmo\n",
    "v2 <- log(v1)\n",
    "p3 <-ggplot(data.frame(x=v2), aes(x)) + \n",
    "    theme(legend.position = \"none\") + \n",
    "    geom_histogram(aes(y = ..density..), colour = \"black\", fill = \"white\", binwidth = .02) + \n",
    "    labs(x = \"Peso Final\", y = \"Density\") + \n",
    "    stat_function(fun = dnorm, args = list(mean = mean(v2, na.rm = TRUE), sd = sd(v2, na.rm = TRUE)), size = 0.4)\n",
    "\n",
    "# QQplot de la distribucion corregida\n",
    "p4 <-qplot(sample = v2)\n",
    "\n",
    "options(repr.plot.width=9, repr.plot.height=3) #Graph sizing in jupyter,for rstudio is not required\n",
    "grid.arrange(p1, p2, p3, p4, ncol = 4, top=textGrob(\"\\n Visual normality inspection\"))"
   ]
  },
  {
   "cell_type": "code",
   "execution_count": 11,
   "metadata": {},
   "outputs": [
    {
     "data": {
      "text/html": [
       "<span style=white-space:pre-wrap>'base mean: 2114.916  sd: 118.21  log(base) mean: 7.655  sd: 0.055'</span>"
      ],
      "text/latex": [
       "'base mean: 2114.916  sd: 118.21  log(base) mean: 7.655  sd: 0.055'"
      ],
      "text/markdown": [
       "<span style=white-space:pre-wrap>'base mean: 2114.916  sd: 118.21  log(base) mean: 7.655  sd: 0.055'</span>"
      ],
      "text/plain": [
       "[1] \"base mean: 2114.916  sd: 118.21  log(base) mean: 7.655  sd: 0.055\""
      ]
     },
     "metadata": {},
     "output_type": "display_data"
    },
    {
     "data": {
      "text/html": [
       "<span style=white-space:pre-wrap>'engorde mean: 2014.05  sd: 180.045  log(engorde) mean: 7.604  sd: 0.086'</span>"
      ],
      "text/latex": [
       "'engorde mean: 2014.05  sd: 180.045  log(engorde) mean: 7.604  sd: 0.086'"
      ],
      "text/markdown": [
       "<span style=white-space:pre-wrap>'engorde mean: 2014.05  sd: 180.045  log(engorde) mean: 7.604  sd: 0.086'</span>"
      ],
      "text/plain": [
       "[1] \"engorde mean: 2014.05  sd: 180.045  log(engorde) mean: 7.604  sd: 0.086\""
      ]
     },
     "metadata": {},
     "output_type": "display_data"
    },
    {
     "data": {
      "text/html": [
       "'Engorde t-value: -0.93'"
      ],
      "text/latex": [
       "'Engorde t-value: -0.93'"
      ],
      "text/markdown": [
       "'Engorde t-value: -0.93'"
      ],
      "text/plain": [
       "[1] \"Engorde t-value: -0.93\""
      ]
     },
     "metadata": {},
     "output_type": "display_data"
    },
    {
     "data": {
      "text/html": [
       "<span style=white-space:pre-wrap>'inicio mean: 2298.449  sd: 159.649  log(inicio) mean: 7.738  sd: 0.066'</span>"
      ],
      "text/latex": [
       "'inicio mean: 2298.449  sd: 159.649  log(inicio) mean: 7.738  sd: 0.066'"
      ],
      "text/markdown": [
       "<span style=white-space:pre-wrap>'inicio mean: 2298.449  sd: 159.649  log(inicio) mean: 7.738  sd: 0.066'</span>"
      ],
      "text/plain": [
       "[1] \"inicio mean: 2298.449  sd: 159.649  log(inicio) mean: 7.738  sd: 0.066\""
      ]
     },
     "metadata": {},
     "output_type": "display_data"
    },
    {
     "data": {
      "text/html": [
       "'Inicio t-value: 1.5'"
      ],
      "text/latex": [
       "'Inicio t-value: 1.5'"
      ],
      "text/markdown": [
       "'Inicio t-value: 1.5'"
      ],
      "text/plain": [
       "[1] \"Inicio t-value: 1.5\""
      ]
     },
     "metadata": {},
     "output_type": "display_data"
    },
    {
     "data": {
      "text/html": [
       "<span style=white-space:pre-wrap>'Preinicio mean: 2897.794  sd: 361.848  log(preinicio) mean: 7.964  sd: 0.127'</span>"
      ],
      "text/latex": [
       "'Preinicio mean: 2897.794  sd: 361.848  log(preinicio) mean: 7.964  sd: 0.127'"
      ],
      "text/markdown": [
       "<span style=white-space:pre-wrap>'Preinicio mean: 2897.794  sd: 361.848  log(preinicio) mean: 7.964  sd: 0.127'</span>"
      ],
      "text/plain": [
       "[1] \"Preinicio mean: 2897.794  sd: 361.848  log(preinicio) mean: 7.964  sd: 0.127\""
      ]
     },
     "metadata": {},
     "output_type": "display_data"
    },
    {
     "data": {
      "text/html": [
       "'Preinicio t-value: 5.62'"
      ],
      "text/latex": [
       "'Preinicio t-value: 5.62'"
      ],
      "text/markdown": [
       "'Preinicio t-value: 5.62'"
      ],
      "text/plain": [
       "[1] \"Preinicio t-value: 5.62\""
      ]
     },
     "metadata": {},
     "output_type": "display_data"
    },
    {
     "data": {},
     "metadata": {},
     "output_type": "display_data"
    },
    {
     "data": {
      "image/png": "[encoded data removed]",
      "text/plain": [
       "plot without title"
      ]
     },
     "metadata": {},
     "output_type": "display_data",
     "source": "R display func"
    }
   ],
   "source": [
    "#Peso Final\n",
    "\n",
    "# Vector incluyendo solo las muestras sin ningun aditivo\n",
    "base <- ad3[ad3$AD3Engrode==0 & ad3$AD3Inicio==0 & ad3$AD3Preinicio == 0 & ad3$pesoFinalPolloG>0 & !is.na(ad3$pesoFinalPolloG),c(\"pesoFinalPolloG\")] \n",
    "paste(\"base mean:\",round(mean(base),3), \" sd:\",round(sd(base),3),\" log(base) mean:\",round(mean(log(base)),3), \" sd:\",round(sd(log(base)),3))\n",
    "\n",
    "# Vector con las muestras en base logarimica y estandarizadas\n",
    "base.sd <- (log(base) - mean(log(base)))/sd(log(base))\n",
    "\n",
    "# Calculo de la media, y t-value de las muestras en el que AD3engorde fue aplicado\n",
    "engorde <- ad3[ad3$AD3Engrode==1 & ad3$pesoFinalPolloG>0 & !is.na(ad3$pesoFinalPolloG),c(\"pesoFinalPolloG\")] \n",
    "paste(\"engorde mean:\",round(mean(engorde),3), \" sd:\",round(sd(engorde),3),\" log(engorde) mean:\",round(mean(log(engorde)),3), \" sd:\",round(sd(log(engorde)),3))\n",
    "engorde.t <- round((mean(log(engorde)) -mean(log(base)))/sd(log(base)),2)\n",
    "paste(\"Engorde t-value:\",engorde.t)\n",
    "\n",
    "# Calculo de la media, y t-value de las muestras en el que AD3inicio fue aplicado\n",
    "inicio <- ad3[ad3$AD3Inicio==1 & ad3$pesoFinalPolloG>0 & !is.na(ad3$pesoFinalPolloG),c(\"pesoFinalPolloG\")] \n",
    "paste(\"inicio mean:\",round(mean(inicio),3), \" sd:\",round(sd(inicio),3),\" log(inicio) mean:\",round(mean(log(inicio)),3), \" sd:\",round(sd(log(inicio)),3))\n",
    "inicio.t <- round((mean(log(inicio)) -mean(log(base)))/sd(log(base)),2)\n",
    "paste(\"Inicio t-value:\",inicio.t)\n",
    "\n",
    "# Calculo de la media, y t-value de las muestras en el que AD3Preinicio fue aplicado\n",
    "preinicio <- ad3[ad3$AD3Preinicio==1 & ad3$pesoFinalPolloG>0 & !is.na(ad3$pesoFinalPolloG),c(\"pesoFinalPolloG\")] \n",
    "paste(\"Preinicio mean:\",round(mean(preinicio),3), \" sd:\",round(sd(preinicio),3),\" log(preinicio) mean:\",round(mean(log(preinicio)),3), \" sd:\",round(sd(log(preinicio)),3))\n",
    "preinicio.t <- round((mean(log(preinicio)) -mean(log(base)))/sd(log(base)),2)\n",
    "paste(\"Preinicio t-value:\",preinicio.t)\n",
    "\n",
    "options(repr.plot.width=7, repr.plot.height=4) #Graph sizing in jupyter,for rstudio is not required\n",
    "\n",
    "e <- data.frame(x=c(engorde.t,inicio.t,preinicio.t), y=c(.04,.04,.04), vx=c(0,0,0), vy=c(-.03,-.03,-.03))\n",
    "\n",
    "ggplot(data.frame(x=base.sd), aes(x)) + \n",
    "    theme(legend.position = \"none\") + \n",
    "    geom_histogram(aes(y = ..density..), colour = \"cornsilk3\", fill = \"red\", alpha=.4, binwidth = 0.3) + \n",
    "    theme_few() + #minimalistic theme\n",
    "    labs(x = \"PesoFinal\", y = \"Density\") + \n",
    "    stat_function(fun = dnorm, args = list(mean = mean(base.sd, na.rm = TRUE), sd = sd(base.sd, na.rm = TRUE)), size = 0.4) +\n",
    "    geom_segment(data=e, mapping=aes(x=x, y=y, xend=x+vx, yend=y+vy), arrow=arrow(length=unit(0.20,\"cm\"))) +\n",
    "    annotate(\"rect\", xmin = -Inf, xmax = -qnorm(1-0.05/2) ,ymin = -Inf, ymax = Inf,  fill = \"gray\", alpha=.15) +\n",
    "    annotate(\"rect\", xmin = Inf, xmax = qnorm(1-0.05/2) ,ymin = -Inf, ymax = Inf,  fill = \"gray\", alpha=.15) +\n",
    "    geom_vline(xintercept = 0) +\n",
    "    geom_text(mapping=aes(x2,y2,label = text2), data=data.frame(x2=preinicio.t, y2=0.07, text2=paste(\"Preinicio\\n t =\",preinicio.t)), size=2.5) +\n",
    "    geom_text(mapping=aes(x2,y2,label = text2), data=data.frame(x2=inicio.t, y2=0.07, text2=paste(\"Inicio\\n t =\",inicio.t)), size=2.5) +\n",
    "    geom_text(mapping=aes(x2,y2,label = text2), data=data.frame(x2=engorde.t, y2=0.07, text2=paste(\"Engorde\\n t =\",engorde.t)), size=2.5)  +  \n",
    "    xlab(\"Peso Final    \") +\n",
    "    ylab(\"Densidad\")\n",
    "\n",
    "\n"
   ]
  },
  {
   "cell_type": "code",
   "execution_count": 15,
   "metadata": {},
   "outputs": [
    {
     "data": {
      "text/html": [
       "2351.58356287659"
      ],
      "text/latex": [
       "2351.58356287659"
      ],
      "text/markdown": [
       "2351.58356287659"
      ],
      "text/plain": [
       "[1] 2351.584"
      ]
     },
     "metadata": {},
     "output_type": "display_data"
    },
    {
     "data": {
      "text/html": [
       "1896.28411322132"
      ],
      "text/latex": [
       "1896.28411322132"
      ],
      "text/markdown": [
       "1896.28411322132"
      ],
      "text/plain": [
       "[1] 1896.284"
      ]
     },
     "metadata": {},
     "output_type": "display_data"
    }
   ],
   "source": [
    "exp(1.96 * sd(log(base)) + mean(log(base)))\n",
    "exp(-1.96 * sd(log(base)) + mean(log(base)))      \n",
    "      "
   ]
  },
  {
   "cell_type": "markdown",
   "metadata": {},
   "source": [
    "#### Explicación:\n",
    "La hipótesis nula, la cual es establecida en este estudio, asume que no hay ninguna diferencia entre el peso promedio de la muestra base (muestras a las que no se les aplico ningun suplemento) y las muestras a las cuales se les aplicaron los suplementos. Si este fuera el caso, no existiría ninguna diferencia estadísticamente significativa entre la muestra base y las muestras a las que se les aplicaron suplementos. La zona marcada en blanco en el grafico se le conoce como intervalo de confianza al 95% de la muestra base. Si promedio de las muestras en las que se aplicó suplemento se encontraran fuera del intervalo de confianza, podremos rechazar la hipótesis nula y asegurar de que existe enrealidad un efecto, positivo o negativo de los suplementos aplicados.\n",
    "\n",
    "El peso promedio sin la aplicación de ningún suplemento es de aproximadamente 2115 gramos con una desviación estándar de 118 gramos.\n",
    "\n",
    "En el caso del suplemento AD3Engorde, el promedio de las muestras a las que se les aplico este suplemento es de 2014g lo cual es menor a la muestra base. Este resultado no es significativo (t= -0.93) ya que el promedio se encuentra dentro del intervalo de confianza (marcado en blanco) de la muestra base que se extiende de -1.96 < t < 1.96.\n",
    "\n",
    "Las muestras a las que se les aplico el suplemento AD3Inicio tienen un peso promedio superior al promedio de la muestra base (2298g), Sin embargo, este resultado tampoco es significativo en el intervalo del 95% de confianza por lo que no se puede hacer ninguna conclusión en términos estadísticos.\n",
    "\n",
    "Las muestras a las que se les aplico el suplemento AD3Preinicio tienen un peso promedio superior a la muestra base (2898g). Este resultado es estadísticamente significativo ya que cae dentro de la zona de rechazo (t > 1.96) con un valor t de 5.62. Esto quiere decir que hay evidencia estadística (>99%) de que las muestras a las que se les aplico el suplemento AD3Preinicio poseen en promedio un peso final mayor que a la muestra base. Es importante señalar que solo hay 34 muestras a las que se les aplico este suplemento por lo que sería ideal hacer un análisis más a detalle otras variables de la muestras a las que se les aplico este suplemento."
   ]
  },
  {
   "cell_type": "markdown",
   "metadata": {},
   "source": [
    "### 4. Prueba estadistica de la Mortalidad en relacion de aplicacion de aditivos\n",
    "\n",
    "El primer paso para realizar esta prueba es asegurarse de que la muestra de pesos siga una distribicion normal."
   ]
  },
  {
   "cell_type": "code",
   "execution_count": 503,
   "metadata": {},
   "outputs": [
    {
     "data": {
      "image/png": "[encoded data removed]",
      "text/plain": [
       "plot without title"
      ]
     },
     "metadata": {},
     "output_type": "display_data",
     "source": "R display func"
    }
   ],
   "source": [
    "#Distribucion original del peso. Ampliamente inclinada hacia la izquierda\n",
    "v1 <- ad3[ad3$mortalidadPor>0 & !is.na(ad3$mortalidadPor),\"mortalidadPor\"]\n",
    "p1 <-ggplot(data.frame(x=v1), aes(x)) + \n",
    "    theme(legend.position = \"none\") + \n",
    "    geom_histogram(aes(y = ..density..), colour = \"black\", fill = \"white\", binwidth = .01) + \n",
    "    labs(x = \"Mortalidad\", y = \"Density\") + \n",
    "    stat_function(fun = dnorm, args = list(mean = mean(v1, na.rm = TRUE), sd = sd(v1, na.rm = TRUE)), size = 0.4)\n",
    "\n",
    "#QQ plot de la distribucion original\n",
    "p2 <-qplot(sample = v1)\n",
    "\n",
    "#Distribucion corregida por logaritmo\n",
    "v2 <- log(v1)\n",
    "p3 <-ggplot(data.frame(x=v2), aes(x)) + \n",
    "    theme(legend.position = \"none\") + \n",
    "    geom_histogram(aes(y = ..density..), colour = \"black\", fill = \"white\", binwidth = .3) + \n",
    "    labs(x = \"Mortalidad\", y = \"Density\") + \n",
    "    stat_function(fun = dnorm, args = list(mean = mean(v2, na.rm = TRUE), sd = sd(v2, na.rm = TRUE)), size = 0.4)\n",
    "\n",
    "# QQplot de la distribucion corregida\n",
    "p4 <-qplot(sample = v2)\n",
    "\n",
    "options(repr.plot.width=9, repr.plot.height=3) #Graph sizing in jupyter,for rstudio is not required\n",
    "grid.arrange(p1, p2, p3, p4, ncol = 4, top=textGrob(\"\\n Visual normality inspection\"))\n"
   ]
  },
  {
   "cell_type": "code",
   "execution_count": 16,
   "metadata": {},
   "outputs": [
    {
     "data": {
      "text/html": [
       "<span style=white-space:pre-wrap>'base mean: 0.056  sd: 0.034  log(base) mean: -3.017  sd: 0.503'</span>"
      ],
      "text/latex": [
       "'base mean: 0.056  sd: 0.034  log(base) mean: -3.017  sd: 0.503'"
      ],
      "text/markdown": [
       "<span style=white-space:pre-wrap>'base mean: 0.056  sd: 0.034  log(base) mean: -3.017  sd: 0.503'</span>"
      ],
      "text/plain": [
       "[1] \"base mean: 0.056  sd: 0.034  log(base) mean: -3.017  sd: 0.503\""
      ]
     },
     "metadata": {},
     "output_type": "display_data"
    },
    {
     "data": {
      "text/html": [
       "<span style=white-space:pre-wrap>'engorde mean: 0.113  sd: 0.128  log(engorde) mean: -2.645  sd: 0.915'</span>"
      ],
      "text/latex": [
       "'engorde mean: 0.113  sd: 0.128  log(engorde) mean: -2.645  sd: 0.915'"
      ],
      "text/markdown": [
       "<span style=white-space:pre-wrap>'engorde mean: 0.113  sd: 0.128  log(engorde) mean: -2.645  sd: 0.915'</span>"
      ],
      "text/plain": [
       "[1] \"engorde mean: 0.113  sd: 0.128  log(engorde) mean: -2.645  sd: 0.915\""
      ]
     },
     "metadata": {},
     "output_type": "display_data"
    },
    {
     "data": {
      "text/html": [
       "'Engorde t-value: 0.7'"
      ],
      "text/latex": [
       "'Engorde t-value: 0.7'"
      ],
      "text/markdown": [
       "'Engorde t-value: 0.7'"
      ],
      "text/plain": [
       "[1] \"Engorde t-value: 0.7\""
      ]
     },
     "metadata": {},
     "output_type": "display_data"
    },
    {
     "data": {
      "text/html": [
       "<span style=white-space:pre-wrap>'inicio mean: 0.057  sd: 0.035  log(inicio) mean: -3.009  sd: 0.529'</span>"
      ],
      "text/latex": [
       "'inicio mean: 0.057  sd: 0.035  log(inicio) mean: -3.009  sd: 0.529'"
      ],
      "text/markdown": [
       "<span style=white-space:pre-wrap>'inicio mean: 0.057  sd: 0.035  log(inicio) mean: -3.009  sd: 0.529'</span>"
      ],
      "text/plain": [
       "[1] \"inicio mean: 0.057  sd: 0.035  log(inicio) mean: -3.009  sd: 0.529\""
      ]
     },
     "metadata": {},
     "output_type": "display_data"
    },
    {
     "data": {
      "text/html": [
       "'Inicio t-value: 0'"
      ],
      "text/latex": [
       "'Inicio t-value: 0'"
      ],
      "text/markdown": [
       "'Inicio t-value: 0'"
      ],
      "text/plain": [
       "[1] \"Inicio t-value: 0\""
      ]
     },
     "metadata": {},
     "output_type": "display_data"
    },
    {
     "data": {
      "text/html": [
       "<span style=white-space:pre-wrap>'Preinicio mean: 0.047  sd: 0.014  log(preinicio) mean: -3.101  sd: 0.31'</span>"
      ],
      "text/latex": [
       "'Preinicio mean: 0.047  sd: 0.014  log(preinicio) mean: -3.101  sd: 0.31'"
      ],
      "text/markdown": [
       "<span style=white-space:pre-wrap>'Preinicio mean: 0.047  sd: 0.014  log(preinicio) mean: -3.101  sd: 0.31'</span>"
      ],
      "text/plain": [
       "[1] \"Preinicio mean: 0.047  sd: 0.014  log(preinicio) mean: -3.101  sd: 0.31\""
      ]
     },
     "metadata": {},
     "output_type": "display_data"
    },
    {
     "data": {
      "text/html": [
       "'Preinicio t-value: -0.2'"
      ],
      "text/latex": [
       "'Preinicio t-value: -0.2'"
      ],
      "text/markdown": [
       "'Preinicio t-value: -0.2'"
      ],
      "text/plain": [
       "[1] \"Preinicio t-value: -0.2\""
      ]
     },
     "metadata": {},
     "output_type": "display_data"
    },
    {
     "data": {},
     "metadata": {},
     "output_type": "display_data"
    },
    {
     "data": {
      "image/png": "[encoded data removed]",
      "text/plain": [
       "plot without title"
      ]
     },
     "metadata": {},
     "output_type": "display_data",
     "source": "R display func"
    }
   ],
   "source": [
    "# Vector incluyendo solo las muestras sin ningun aditivo\n",
    "base <- ad3[ad3$AD3Engrode==0 & ad3$AD3Inicio==0 & ad3$AD3Preinicio == 0 & ad3$mortalidadPor>0 & !is.na(ad3$mortalidadPor),c(\"mortalidadPor\")] \n",
    "paste(\"base mean:\",round(mean(base),3), \" sd:\",round(sd(base),3),\" log(base) mean:\",round(mean(log(base)),3), \" sd:\",round(sd(log(base)),3))\n",
    "\n",
    "# Vector con las muestras en base logarimica y estandarizadas\n",
    "base.sd <- (log(base) - mean(log(base)))/sd(log(base))\n",
    "\n",
    "# Calculo de la media, y t-value de las muestras en el que AD3engorde fue aplicado\n",
    "engorde <- ad3[ad3$AD3Engrode==1 & ad3$mortalidadPor>0 & !is.na(ad3$mortalidadPor),c(\"mortalidadPor\")] \n",
    "paste(\"engorde mean:\",round(mean(engorde),3), \" sd:\",round(sd(engorde),3),\" log(engorde) mean:\",round(mean(log(engorde)),3), \" sd:\",round(sd(log(engorde)),3))\n",
    "engorde.t <- round((mean(log(engorde)) -mean(log(base)))/sd(log(base)),1)\n",
    "paste(\"Engorde t-value:\",engorde.t)\n",
    "\n",
    "# Calculo de la media, y t-value de las muestras en el que AD3inicio fue aplicado\n",
    "inicio <- ad3[ad3$AD3Inicio==1 & ad3$mortalidadPor>0 & !is.na(ad3$mortalidadPor),c(\"mortalidadPor\")] \n",
    "paste(\"inicio mean:\",round(mean(inicio),3), \" sd:\",round(sd(inicio),3),\" log(inicio) mean:\",round(mean(log(inicio)),3), \" sd:\",round(sd(log(inicio)),3))\n",
    "inicio.t <- round((mean(log(inicio)) -mean(log(base)))/sd(log(base)),1)\n",
    "paste(\"Inicio t-value:\",inicio.t)\n",
    "\n",
    "# Calculo de la media, y t-value de las muestras en el que AD3Preinicio fue aplicado\n",
    "preinicio <- ad3[ad3$AD3Preinicio==1 & ad3$mortalidadPor>0 & !is.na(ad3$mortalidadPor),c(\"mortalidadPor\")] \n",
    "paste(\"Preinicio mean:\",round(mean(preinicio),3), \" sd:\",round(sd(preinicio),3),\" log(preinicio) mean:\",round(mean(log(preinicio)),3), \" sd:\",round(sd(log(preinicio)),3))\n",
    "preinicio.t <- round((mean(log(preinicio)) -mean(log(base)))/sd(log(base)),1)\n",
    "paste(\"Preinicio t-value:\",preinicio.t)\n",
    "\n",
    "options(repr.plot.width=9, repr.plot.height=5) #Graph sizing in jupyter,for rstudio is not required\n",
    "\n",
    "e <- data.frame(x=c(engorde.t,inicio.t,preinicio.t), y=c(.04,.04,.04), vx=c(0,0,0), vy=c(-.03,-.03,-.03))\n",
    "\n",
    "ggplot(data.frame(x=base.sd), aes(x)) + \n",
    "    theme(legend.position = \"none\") + \n",
    "    geom_histogram(aes(y = ..density..), colour = \"cornsilk3\", fill = \"red\", alpha=.4, binwidth = 0.2) + \n",
    "    theme_few() + #minimalistic theme\n",
    "    labs(x = \"PesoFinal\", y = \"Density\") + \n",
    "    stat_function(fun = dnorm, args = list(mean = mean(base.sd, na.rm = TRUE), sd = sd(base.sd, na.rm = TRUE)), size = 0.4) +\n",
    "    geom_segment(data=e, mapping=aes(x=x, y=y, xend=x+vx, yend=y+vy), arrow=arrow(length=unit(0.20,\"cm\"))) +\n",
    "    annotate(\"rect\", xmin = -Inf, xmax = -qnorm(1-0.05/2) ,ymin = -Inf, ymax = Inf,  fill = \"gray\", alpha=.15) +\n",
    "    annotate(\"rect\", xmin = Inf, xmax = qnorm(1-0.05/2) ,ymin = -Inf, ymax = Inf,  fill = \"gray\", alpha=.15) +\n",
    "    geom_vline(xintercept = 0) +\n",
    "    geom_text(mapping=aes(x2,y2,label = text2), data=data.frame(x2=preinicio.t-0.15, y2=0.09, text2=paste(\"Preinicio\\n t =\",preinicio.t)), size=2.5) +\n",
    "    geom_text(mapping=aes(x2,y2,label = text2), data=data.frame(x2=inicio.t, y2=0.09, text2=paste(\"Inicio\\n t =\",inicio.t)), size=2.5) +\n",
    "    geom_text(mapping=aes(x2,y2,label = text2), data=data.frame(x2=engorde.t , y2=0.09, text2=paste(\"Engorde\\n t =\",engorde.t)), size=2.5)  +  \n",
    "    xlab(\"Mortalidad\") +\n",
    "    ylab(\"Densidad\")\n",
    "\n"
   ]
  },
  {
   "cell_type": "markdown",
   "metadata": {},
   "source": [
    "#### Explicación:\n",
    "La hipótesis nula, la cual es establecida en este estudio, asume que no hay ninguna diferencia entre la tasa de mortalidad de la muestra base (muestras a las que no se les aplico ningún suplemento) y las muestras a las cuales se les aplicaron los suplementos. Si este fuera el caso, no existiría ninguna diferencia estadísticamente significativa entre la muestra base y las muestras a las que se les aplicaron suplementos. La zona marcada en blanco en el grafico se le conoce como intervalo de confianza al 95% de la muestra base. Si promedio de las muestras en las que se aplicó suplemento se encontraran fuera del intervalo de confianza, podremos rechazar la hipótesis nula y asegurar de que existe en realidad un efecto, positivo o negativo de los suplementos aplicados.\n",
    "\n",
    "La tasa de mortalidad promedio de la muestra base es de aproximadamente 5.6% con una desviación estándar del 3.5%.\n",
    "\n",
    "La conclusión general en relación a la tasa de mortalidad es que ninguno de los suplementos tiene ningún efecto significativo en este aspecto. El suplemento AD3Engorde es el que presenta el mayor efecto contraproducente (t-value = 0.7) sin embargo este valor se encuentra dentro del intervalo de confianza al 95% y muy por debajo de limite t-value = 1.96.\n"
   ]
  },
  {
   "cell_type": "code",
   "execution_count": 17,
   "metadata": {},
   "outputs": [
    {
     "data": {
      "text/html": [
       "0.131142230324876"
      ],
      "text/latex": [
       "0.131142230324876"
      ],
      "text/markdown": [
       "0.131142230324876"
      ],
      "text/plain": [
       "[1] 0.1311422"
      ]
     },
     "metadata": {},
     "output_type": "display_data"
    },
    {
     "data": {
      "text/html": [
       "0.0182684462462319"
      ],
      "text/latex": [
       "0.0182684462462319"
      ],
      "text/markdown": [
       "0.0182684462462319"
      ],
      "text/plain": [
       "[1] 0.01826845"
      ]
     },
     "metadata": {},
     "output_type": "display_data"
    }
   ],
   "source": [
    "exp(1.96 * sd(log(base)) + mean(log(base)))\n",
    "exp(-1.96 * sd(log(base)) + mean(log(base)))      \n",
    "      "
   ]
  },
  {
   "cell_type": "markdown",
   "metadata": {},
   "source": [
    "### 5. Prueba estadistica de la Conversion Ajustada en relacion de aplicacion de aditivos\n",
    "\n",
    "El primer paso para realizar esta prueba es asegurarse de que la muestra de pesos siga una distribicion normal."
   ]
  },
  {
   "cell_type": "code",
   "execution_count": 422,
   "metadata": {},
   "outputs": [
    {
     "name": "stderr",
     "output_type": "stream",
     "text": [
      "Warning message in orderNorm(x = c(1.82, 1.7, 1.77, 1.72, 1.68, 1.71, 1.69, 1.77, :\n",
      "\"Ties in data, Normal distribution not guaranteed\n",
      "\""
     ]
    },
    {
     "data": {
      "image/png": "[encoded data removed]",
      "text/plain": [
       "plot without title"
      ]
     },
     "metadata": {},
     "output_type": "display_data",
     "source": "R display func"
    }
   ],
   "source": [
    "#Distribucion original del peso. Ligeramente inclinada hacia la izquierda\n",
    "v1 <- ad3[ad3$AD3Engrode==0 & ad3$AD3Inicio==0 & ad3$AD3Preinicio == 0 & ad3$conversionAjustada2punto2Kg>0 & !is.na(ad3$conversionAjustada2punto2Kg),\"conversionAjustada2punto2Kg\"]\n",
    "p1 <-ggplot(data.frame(x=v1), aes(x)) + \n",
    "    theme(legend.position = \"none\") + \n",
    "    geom_histogram(aes(y = ..density..), colour = \"black\", fill = \"white\", binwidth = .1) + \n",
    "    labs(x = \"Conversion Ajustada(2kg)\", y = \"Density\") + \n",
    "    stat_function(fun = dnorm, args = list(mean = mean(v1, na.rm = TRUE), sd = sd(v1, na.rm = TRUE)), size = 0.4)\n",
    "\n",
    "#QQ plot de la distribucion original\n",
    "p2 <-qplot(sample = v1)\n",
    "\n",
    "\n",
    "#Distribucion corregida con PowerTransformation\n",
    "v2<- bestNormalize(v1)$x.t\n",
    "\n",
    "p3 <-ggplot(data.frame(x=v2), aes(x)) + \n",
    "    theme(legend.position = \"none\") + \n",
    "    geom_histogram(aes(y = ..density..), colour = \"black\", fill = \"white\", binwidth = 0.3) + \n",
    "    labs(x = \"Conversion Ajustada(2kg)\", y = \"Density\") + \n",
    "    stat_function(fun = dnorm, args = list(mean = mean(v2, na.rm = TRUE), sd = sd(v2, na.rm = TRUE)), size = 0.4)\n",
    "\n",
    "# QQplot de la distribucion corregida\n",
    "p4 <-qplot(sample = v2)\n",
    "\n",
    "options(repr.plot.width=9, repr.plot.height=3) #Graph sizing in jupyter,for rstudio is not required\n",
    "grid.arrange(p1, p2, p3, p4, ncol = 4, top=textGrob(\"\\n Visual normality inspection\"))"
   ]
  },
  {
   "cell_type": "code",
   "execution_count": 44,
   "metadata": {},
   "outputs": [
    {
     "name": "stderr",
     "output_type": "stream",
     "text": [
      "Warning message in orderNorm(x = c(1.82, 1.7, 1.77, 1.72, 1.68, 1.71, 1.69, 1.77, :\n",
      "\"Ties in data, Normal distribution not guaranteed\n",
      "\""
     ]
    },
    {
     "data": {
      "text/html": [
       "<span style=white-space:pre-wrap>'base mean: 1.758  sd: 0.119  base.normalized mean: 0  sd: 1'</span>"
      ],
      "text/latex": [
       "'base mean: 1.758  sd: 0.119  base.normalized mean: 0  sd: 1'"
      ],
      "text/markdown": [
       "<span style=white-space:pre-wrap>'base mean: 1.758  sd: 0.119  base.normalized mean: 0  sd: 1'</span>"
      ],
      "text/plain": [
       "[1] \"base mean: 1.758  sd: 0.119  base.normalized mean: 0  sd: 1\""
      ]
     },
     "metadata": {},
     "output_type": "display_data"
    },
    {
     "data": {
      "text/html": [
       "<span style=white-space:pre-wrap>'engorde mean: 1.995  sd: 0.387'</span>"
      ],
      "text/latex": [
       "'engorde mean: 1.995  sd: 0.387'"
      ],
      "text/markdown": [
       "<span style=white-space:pre-wrap>'engorde mean: 1.995  sd: 0.387'</span>"
      ],
      "text/plain": [
       "[1] \"engorde mean: 1.995  sd: 0.387\""
      ]
     },
     "metadata": {},
     "output_type": "display_data"
    },
    {
     "data": {
      "text/html": [
       "'standarized engorde mean: 1.884'"
      ],
      "text/latex": [
       "'standarized engorde mean: 1.884'"
      ],
      "text/markdown": [
       "'standarized engorde mean: 1.884'"
      ],
      "text/plain": [
       "[1] \"standarized engorde mean: 1.884\""
      ]
     },
     "metadata": {},
     "output_type": "display_data"
    },
    {
     "data": {
      "text/html": [
       "'Engorde t-value: 1.88'"
      ],
      "text/latex": [
       "'Engorde t-value: 1.88'"
      ],
      "text/markdown": [
       "'Engorde t-value: 1.88'"
      ],
      "text/plain": [
       "[1] \"Engorde t-value: 1.88\""
      ]
     },
     "metadata": {},
     "output_type": "display_data"
    },
    {
     "data": {
      "text/html": [
       "<span style=white-space:pre-wrap>'inicio mean: 1.68  sd: 0.083  standarized inicio mean: -0.639  sd: NA'</span>"
      ],
      "text/latex": [
       "'inicio mean: 1.68  sd: 0.083  standarized inicio mean: -0.639  sd: NA'"
      ],
      "text/markdown": [
       "<span style=white-space:pre-wrap>'inicio mean: 1.68  sd: 0.083  standarized inicio mean: -0.639  sd: NA'</span>"
      ],
      "text/plain": [
       "[1] \"inicio mean: 1.68  sd: 0.083  standarized inicio mean: -0.639  sd: NA\""
      ]
     },
     "metadata": {},
     "output_type": "display_data"
    },
    {
     "data": {
      "text/html": [
       "'inicio t-value: -0.64'"
      ],
      "text/latex": [
       "'inicio t-value: -0.64'"
      ],
      "text/markdown": [
       "'inicio t-value: -0.64'"
      ],
      "text/plain": [
       "[1] \"inicio t-value: -0.64\""
      ]
     },
     "metadata": {},
     "output_type": "display_data"
    },
    {
     "data": {
      "text/html": [
       "<span style=white-space:pre-wrap>'preinicio mean: 1.518  sd: 0.069  standarized preinicio mean: -2.353  sd: NA'</span>"
      ],
      "text/latex": [
       "'preinicio mean: 1.518  sd: 0.069  standarized preinicio mean: -2.353  sd: NA'"
      ],
      "text/markdown": [
       "<span style=white-space:pre-wrap>'preinicio mean: 1.518  sd: 0.069  standarized preinicio mean: -2.353  sd: NA'</span>"
      ],
      "text/plain": [
       "[1] \"preinicio mean: 1.518  sd: 0.069  standarized preinicio mean: -2.353  sd: NA\""
      ]
     },
     "metadata": {},
     "output_type": "display_data"
    },
    {
     "data": {
      "text/html": [
       "'preinicio t-value: -2.35'"
      ],
      "text/latex": [
       "'preinicio t-value: -2.35'"
      ],
      "text/markdown": [
       "'preinicio t-value: -2.35'"
      ],
      "text/plain": [
       "[1] \"preinicio t-value: -2.35\""
      ]
     },
     "metadata": {},
     "output_type": "display_data"
    },
    {
     "data": {},
     "metadata": {},
     "output_type": "display_data"
    },
    {
     "data": {
      "image/png": "[encoded data removed]",
      "text/plain": [
       "plot without title"
      ]
     },
     "metadata": {},
     "output_type": "display_data",
     "source": "R display func"
    }
   ],
   "source": [
    "#Conversion Ajustada\n",
    "\n",
    "# Vector incluyendo solo las muestras sin ningun aditivo\n",
    "base <- ad3[ad3$AD3Engrode==0 & ad3$AD3Inicio==0 & ad3$AD3Preinicio == 0 & ad3$conversionAjustada2punto2Kg>0 & !is.na(ad3$conversionAjustada2punto2Kg),c(\"conversionAjustada2punto2Kg\")] \n",
    "\n",
    "# Conversion a distribucion normal usando PowerTransformation\n",
    "base.nor<- bestNormalize(base)\n",
    "base.sd <- base.nor$x.t\n",
    "\n",
    "paste(\"base mean:\",round(mean(base),3), \" sd:\",round(sd(base),3),\" base.normalized mean:\",round(mean(base.sd),3), \" sd:\",round(sd((base.sd),3)))\n",
    "\n",
    "# Calculo de la media, y t-value de las muestras en el que AD3engorde fue aplicado\n",
    "engorde <- ad3[ad3$AD3Engrode==1 & ad3$conversionAjustada2punto2Kg>0 & !is.na(ad3$conversionAjustada2punto2Kg),c(\"conversionAjustada2punto2Kg\")] \n",
    "paste(\"engorde mean:\",round(mean(engorde),3), \" sd:\",round(sd(engorde),3))\n",
    "engorde.predict <- predict(base.nor, newdata = mean(engorde))\n",
    "paste(\"standarized engorde mean:\",round(engorde.predict,3))\n",
    "engorde.t <- round((engorde.predict -mean(base.nor$x.t))/sd(base.nor$x.t),2)\n",
    "paste(\"Engorde t-value:\",engorde.t)\n",
    "\n",
    "# Calculo de la media, y t-value de las muestras en el que AD3inicio fue aplicado\n",
    "inicio <- ad3[ad3$AD3Inicio==1 & ad3$conversionAjustada2punto2Kg>0 & !is.na(ad3$conversionAjustada2punto2Kg),c(\"conversionAjustada2punto2Kg\")] \n",
    "inicio.predict <- predict(base.nor, newdata = mean(inicio))\n",
    "paste(\"inicio mean:\",round(mean(inicio,na.rm = TRUE),3), \" sd:\",round(sd(inicio,na.rm = TRUE),3), \" standarized inicio mean:\",round(mean(inicio.predict,na.rm = TRUE),3), \" sd:\",round(sd(inicio.predict,na.rm = TRUE),3))\n",
    "inicio.t <- round((mean(inicio.predict,na.rm = TRUE) -mean(base.sd))/sd(base.sd),2)\n",
    "paste(\"inicio t-value:\",inicio.t)\n",
    "\n",
    "# Calculo de la media, y t-value de las muestras en el que AD3Preinicio fue aplicado\n",
    "preinicio <- ad3[ad3$AD3Preinicio==1 & ad3$conversionAjustada2punto2Kg>0 & !is.na(ad3$conversionAjustada2punto2Kg),c(\"conversionAjustada2punto2Kg\")] \n",
    "preinicio.predict <- predict(base.nor, newdata = mean(preinicio))\n",
    "paste(\"preinicio mean:\",round(mean(preinicio),3), \" sd:\",round(sd(preinicio),3), \" standarized preinicio mean:\",round(mean(preinicio.predict,na.rm = TRUE),3), \" sd:\",round(sd(preinicio.predict,na.rm = TRUE),3))\n",
    "preinicio.t <- round((mean(preinicio.predict,na.rm = TRUE) -mean(base.sd,na.rm = TRUE))/sd(base.sd,na.rm = TRUE),2)\n",
    "paste(\"preinicio t-value:\",preinicio.t)\n",
    "\n",
    "\n",
    "options(repr.plot.width=7, repr.plot.height=4) #Graph sizing in jupyter,for rstudio is not required\n",
    "\n",
    "e <- data.frame(x=c(engorde.t,inicio.t,preinicio.t), y=c(.04,.04,.04), vx=c(0,0,0), vy=c(-.03,-.03,-.03))\n",
    "\n",
    "ggplot(data.frame(x=base.sd), aes(x)) + \n",
    "    theme(legend.position = \"none\") + \n",
    "    geom_histogram(aes(y = ..density..), colour = \"cornsilk3\", fill = \"red\", alpha=.4, binwidth = 0.3) + \n",
    "    theme_few() + #minimalistic theme\n",
    "    labs(x = \"PesoFinal\", y = \"Density\") + \n",
    "    stat_function(fun = dnorm, args = list(mean = mean(base.sd, na.rm = TRUE), sd = sd(base.sd, na.rm = TRUE)), size = 0.3) +\n",
    "    geom_segment(data=e, mapping=aes(x=x, y=y, xend=x+vx, yend=y+vy), arrow=arrow(length=unit(0.20,\"cm\"))) +\n",
    "    annotate(\"rect\", xmin = -Inf, xmax = -qnorm(1-0.05/2) ,ymin = -Inf, ymax = Inf,  fill = \"gray\", alpha=.15) +\n",
    "    annotate(\"rect\", xmin = Inf, xmax = qnorm(1-0.05/2) ,ymin = -Inf, ymax = Inf,  fill = \"gray\", alpha=.15) +\n",
    "    geom_vline(xintercept = 0) +\n",
    "    geom_text(mapping=aes(x2,y2,label = text2), data=data.frame(x2=preinicio.t, y2=0.07, text2=paste(\"Preinicio\\n t =\",preinicio.t)), size=2.5) +\n",
    "    geom_text(mapping=aes(x2,y2,label = text2), data=data.frame(x2=inicio.t, y2=0.07, text2=paste(\"Inicio\\n t =\",inicio.t)), size=2.5) +\n",
    "    geom_text(mapping=aes(x2,y2,label = text2), data=data.frame(x2=engorde.t, y2=0.07, text2=paste(\"Engorde\\n t =\",engorde.t)), size=2.5)  +  \n",
    "    xlab(\"Conversion Ajustada\") +\n",
    "    ylab(\"Densidad\")\n",
    "\n"
   ]
  },
  {
   "cell_type": "code",
   "execution_count": 40,
   "metadata": {},
   "outputs": [
    {
     "data": {
      "text/html": [
       "-2.25455613535396"
      ],
      "text/latex": [
       "-2.25455613535396"
      ],
      "text/markdown": [
       "-2.25455613535396"
      ],
      "text/plain": [
       "[1] -2.254556"
      ]
     },
     "metadata": {},
     "output_type": "display_data"
    },
    {
     "data": {
      "text/html": [
       "1.75562831999526"
      ],
      "text/latex": [
       "1.75562831999526"
      ],
      "text/markdown": [
       "1.75562831999526"
      ],
      "text/plain": [
       "[1] 1.755628"
      ]
     },
     "metadata": {},
     "output_type": "display_data"
    },
    {
     "data": {
      "text/html": [
       "1.99475"
      ],
      "text/latex": [
       "1.99475"
      ],
      "text/markdown": [
       "1.99475"
      ],
      "text/plain": [
       "[1] 1.99475"
      ]
     },
     "metadata": {},
     "output_type": "display_data"
    }
   ],
   "source": [
    "predict(base.nor, newdata = 1.552)\n",
    "predict(base.nor, newdata = 1.995)\n",
    "mean(engorde)"
   ]
  },
  {
   "cell_type": "code",
   "execution_count": 39,
   "metadata": {},
   "outputs": [
    {
     "data": {
      "text/html": [
       "1.34942506552027"
      ],
      "text/latex": [
       "1.34942506552027"
      ],
      "text/markdown": [
       "1.34942506552027"
      ],
      "text/plain": [
       "[1] 1.349425"
      ]
     },
     "metadata": {},
     "output_type": "display_data"
    },
    {
     "data": {
      "text/html": [
       "-5.70149297581532e-17"
      ],
      "text/latex": [
       "-5.70149297581532e-17"
      ],
      "text/markdown": [
       "-5.70149297581532e-17"
      ],
      "text/plain": [
       "[1] -5.701493e-17"
      ]
     },
     "metadata": {},
     "output_type": "display_data"
    },
    {
     "data": {
      "text/html": [
       "1"
      ],
      "text/latex": [
       "1"
      ],
      "text/markdown": [
       "1"
      ],
      "text/plain": [
       "[1] 1"
      ]
     },
     "metadata": {},
     "output_type": "display_data"
    }
   ],
   "source": [
    "engorde.t <- round((mean(engorde.predict) -mean(base.nor$x.t))/sd(base.nor$x.t),2)\n",
    "   mean(engorde.predict)\n",
    "mean(base.nor$x.t)\n",
    "sd(base.nor$x.t)"
   ]
  },
  {
   "cell_type": "markdown",
   "metadata": {},
   "source": [
    "#### Explicación:\n",
    "La hipótesis nula, la cual es establecida en este estudio, asume que no hay ninguna diferencia entre la tasa de conversion de la muestra base (muestras a las que no se les aplico ningun suplemento) y las muestras a las cuales se les aplicaron los suplementos. Si este fuera el caso, no existiría ninguna diferencia estadísticamente significativa entre la muestra base y las muestras a las que se les aplicaron suplementos. La zona marcada en blanco en el grafico se le conoce como intervalo de confianza al 95% de la muestra base. Si promedio de las muestras en las que se aplicó suplemento se encontraran fuera del intervalo de confianza, podremos rechazar la hipótesis nula y asegurar de que existe enrealidad un efecto, positivo o negativo de los suplementos aplicados.\n",
    "\n",
    "La tasa de conversion ajustada promedio promedio sin la aplicación de ningún suplemento es aproximadamente 1.75 con una desviación estándar de 0.11.\n",
    "\n",
    "En el caso del suplemento AD3Engorde, el promedio de las muestras a las que se les aplico este suplemento es de 1.99 lo cual es mayor a la muestra base. Este resultado no es significativo (t= 1.35) ya que el promedio se encuentra dentro del intervalo de confianza (marcado en blanco) de la muestra base que se extiende de -1.96 < t < 1.96.\n",
    "\n",
    "Las muestras a las que se les aplico el suplemento AD3Inicio tienen una tasa de conversion menor al promedio de la muestra base 1.68. Sin embargo, este resultado tampoco es significativo ya que se encuentra dentro del intervalo del 95% (t=-0.69) por lo que no se puede hacer ninguna conclusión en términos estadísticos.\n",
    "\n",
    "Las muestras a las que se les aplico el suplemento AD3Preinicio tienen una tasa de conversion significativamente inferior a la muestra base, siendo esta 1.518. Este resultado es estadísticamente significativo ya que cae dentro de la zona de rechazo (t < 1.96) con un valor t de -2.99. Esto quiere decir que hay evidencia estadística (>99%) de que las muestras a las que se les aplico el suplemento AD3Preinicio poseen en promedio una tasa de conversion menor que a la muestra base. Es importante señalar que solo hay 34 muestras a las que se les aplico este suplemento por lo que sería ideal hacer un análisis más a detalle otras variables de la muestras a las que se les aplico este suplemento."
   ]
  },
  {
   "cell_type": "markdown",
   "metadata": {},
   "source": [
    "### 6. Analisis de regresion de consumo por dia vs peso final\n",
    "Como último paso procederemos a realizar un análisis de regresión para analizar el efecto de los diferentes suplementos en relación con el consumo por día y al peso final."
   ]
  },
  {
   "cell_type": "code",
   "execution_count": 82,
   "metadata": {},
   "outputs": [],
   "source": [
    "# Grafico de todas las muestras diferenciando entre las differentes categorias\n",
    "ad3$Suplemento <- ifelse(ad3$AD3Engrode==0 & ad3$AD3Inicio==0 & ad3$AD3Preinicio==0, \"Base\",\"Inicio\")\n",
    "ad3[ad3$AD3Preinicio==1,\"Suplemento\"] <- \"Preinicio\"\n",
    "ad3[ad3$AD3Engrode==1,\"Suplemento\"] <- \"Engorde\"\n",
    "\n",
    "p1 <- ggplot() +\n",
    "  geom_point(data = ad3, aes(x = consumoDiaPolloG, y = pesoFinalPolloG, color=Suplemento), size = 0.6)+\n",
    "  xlim(50,150)+ ylim(1500,3600) + theme(legend.position = c(.15, .77))+  \n",
    "    xlab(\"Consumo por dia (g)\") +\n",
    "    ylab(\"Peso Final (g)\") + \n",
    "    guides(colour = guide_legend(override.aes = list(size=2)))"
   ]
  },
  {
   "cell_type": "code",
   "execution_count": 83,
   "metadata": {},
   "outputs": [
    {
     "data": {
      "text/html": [
       "<table>\n",
       "<thead><tr><th></th><th scope=col>Estimate</th><th scope=col>Std. Error</th><th scope=col>t value</th><th scope=col>Pr(&gt;|t|)</th></tr></thead>\n",
       "<tbody>\n",
       "\t<tr><th scope=row>(Intercept)</th><td>1510.003894  </td><td> 41.7334585  </td><td>36.182093    </td><td>4.921494e-212</td></tr>\n",
       "\t<tr><th scope=row>AD3Engrode</th><td> 683.850792  </td><td>112.8634938  </td><td> 6.059096    </td><td> 1.688940e-09</td></tr>\n",
       "\t<tr><th scope=row>consumoDiaPolloG</th><td>   6.861097  </td><td>  0.4683895  </td><td>14.648272    </td><td> 8.553733e-46</td></tr>\n",
       "\t<tr><th scope=row>I(consumoDiaPolloG * AD3Engrode)</th><td>  -8.516926  </td><td>  1.0670354  </td><td>-7.981859    </td><td> 2.659867e-15</td></tr>\n",
       "</tbody>\n",
       "</table>\n"
      ],
      "text/latex": [
       "\\begin{tabular}{r|llll}\n",
       "  & Estimate & Std. Error & t value & Pr(>\\textbar{}t\\textbar{})\\\\\n",
       "\\hline\n",
       "\t(Intercept) & 1510.003894   &  41.7334585   & 36.182093     & 4.921494e-212\\\\\n",
       "\tAD3Engrode &  683.850792   & 112.8634938   &  6.059096     &  1.688940e-09\\\\\n",
       "\tconsumoDiaPolloG &    6.861097   &   0.4683895   & 14.648272     &  8.553733e-46\\\\\n",
       "\tI(consumoDiaPolloG * AD3Engrode) &   -8.516926   &   1.0670354   & -7.981859     &  2.659867e-15\\\\\n",
       "\\end{tabular}\n"
      ],
      "text/markdown": [
       "\n",
       "| <!--/--> | Estimate | Std. Error | t value | Pr(>|t|) | \n",
       "|---|---|---|---|\n",
       "| (Intercept) | 1510.003894   |  41.7334585   | 36.182093     | 4.921494e-212 | \n",
       "| AD3Engrode |  683.850792   | 112.8634938   |  6.059096     |  1.688940e-09 | \n",
       "| consumoDiaPolloG |    6.861097   |   0.4683895   | 14.648272     |  8.553733e-46 | \n",
       "| I(consumoDiaPolloG * AD3Engrode) |   -8.516926   |   1.0670354   | -7.981859     |  2.659867e-15 | \n",
       "\n",
       "\n"
      ],
      "text/plain": [
       "                                 Estimate    Std. Error  t value  \n",
       "(Intercept)                      1510.003894  41.7334585 36.182093\n",
       "AD3Engrode                        683.850792 112.8634938  6.059096\n",
       "consumoDiaPolloG                    6.861097   0.4683895 14.648272\n",
       "I(consumoDiaPolloG * AD3Engrode)   -8.516926   1.0670354 -7.981859\n",
       "                                 Pr(>|t|)     \n",
       "(Intercept)                      4.921494e-212\n",
       "AD3Engrode                        1.688940e-09\n",
       "consumoDiaPolloG                  8.553733e-46\n",
       "I(consumoDiaPolloG * AD3Engrode)  2.659867e-15"
      ]
     },
     "metadata": {},
     "output_type": "display_data"
    }
   ],
   "source": [
    "#Engorde\n",
    "engorde <- ad3[ad3$AD3Engrode==1 | ad3$AD3Inicio==0 & ad3$AD3Preinicio == 0,c(\"pesoFinalPolloG\",\"consumoDiaPolloG\",\"AD3Engrode\")] \n",
    "engorde$Suplemento <- ifelse(engorde$AD3Engrode==0,\"Base\",\"Engorde\")\n",
    "reg.engorde <- lm(pesoFinalPolloG~AD3Engrode + consumoDiaPolloG + I(consumoDiaPolloG*AD3Engrode),engorde)\n",
    "summary(reg.engorde)$coefficients\n",
    "\n",
    "\n",
    "dat <- data.frame(x=60:150)\n",
    "\n",
    "dat$linear <- reg.engorde$coefficients[1] + reg.engorde$coefficients[3]*dat$x\n",
    "dat$engorde <- reg.engorde$coefficients[1] + reg.engorde$coefficients[2] + reg.engorde$coefficients[3]*dat$x + reg.engorde$coefficients[4]*dat$x \n",
    "\n",
    "p2 <- ggplot() +\n",
    "  geom_point(data = engorde, aes(x = consumoDiaPolloG, y = pesoFinalPolloG, color= Suplemento), size = 0.6)+\n",
    "  scale_color_manual(values=c(\"blue\", \"red\")) +\n",
    "  geom_line(data = dat, aes(x = x, y = linear), color=\"blue\", size = 0.3)+\n",
    "  geom_line(data = dat, aes(x = x, y = engorde), color=\"red\", size = 0.3)+\n",
    "  xlim(50,150)+ ylim(1500,3600) + theme(legend.position = c(.15, .85))+  \n",
    "    xlab(\"Consumo por dia (g)\") +\n",
    "    ylab(\"Peso Final (g)\")+ \n",
    "    guides(colour = guide_legend(override.aes = list(size=2))) +\n",
    "    geom_text(mapping=aes(x2,y2,label = text2), data=data.frame(x2=140, y2=2600, text2=paste(\"Base \\n m=\",round(reg.engorde$coefficients[3]),2)), size=2.5) +\n",
    "    geom_text(mapping=aes(x2,y2,label = text2), data=data.frame(x2=140, y2=2100, text2=paste(\"Engorde \\nm=\",round(reg.engorde$coefficients[3] + reg.engorde$coefficients[4],2), \" t-value:\",round(summary(reg.engorde)$coefficients[4,3],2))), size=2.5) \n"
   ]
  },
  {
   "cell_type": "code",
   "execution_count": 84,
   "metadata": {},
   "outputs": [
    {
     "data": {
      "text/html": [
       "<table>\n",
       "<thead><tr><th></th><th scope=col>Estimate</th><th scope=col>Std. Error</th><th scope=col>t value</th><th scope=col>Pr(&gt;|t|)</th></tr></thead>\n",
       "<tbody>\n",
       "\t<tr><th scope=row>(Intercept)</th><td> 1510.003894 </td><td>36.7062240   </td><td> 41.13754    </td><td>1.881957e-301</td></tr>\n",
       "\t<tr><th scope=row>AD3Inicio</th><td>-1089.249337 </td><td>58.4709073   </td><td>-18.62891    </td><td> 6.937613e-74</td></tr>\n",
       "\t<tr><th scope=row>consumoDiaPolloG</th><td>    6.861097 </td><td> 0.4119671   </td><td> 16.65448    </td><td> 5.755484e-60</td></tr>\n",
       "\t<tr><th scope=row>I(consumoDiaPolloG * AD3Inicio)</th><td>   13.150386 </td><td> 0.6380876   </td><td> 20.60906    </td><td> 4.210629e-89</td></tr>\n",
       "</tbody>\n",
       "</table>\n"
      ],
      "text/latex": [
       "\\begin{tabular}{r|llll}\n",
       "  & Estimate & Std. Error & t value & Pr(>\\textbar{}t\\textbar{})\\\\\n",
       "\\hline\n",
       "\t(Intercept) &  1510.003894  & 36.7062240    &  41.13754     & 1.881957e-301\\\\\n",
       "\tAD3Inicio & -1089.249337  & 58.4709073    & -18.62891     &  6.937613e-74\\\\\n",
       "\tconsumoDiaPolloG &     6.861097  &  0.4119671    &  16.65448     &  5.755484e-60\\\\\n",
       "\tI(consumoDiaPolloG * AD3Inicio) &    13.150386  &  0.6380876    &  20.60906     &  4.210629e-89\\\\\n",
       "\\end{tabular}\n"
      ],
      "text/markdown": [
       "\n",
       "| <!--/--> | Estimate | Std. Error | t value | Pr(>|t|) | \n",
       "|---|---|---|---|\n",
       "| (Intercept) |  1510.003894  | 36.7062240    |  41.13754     | 1.881957e-301 | \n",
       "| AD3Inicio | -1089.249337  | 58.4709073    | -18.62891     |  6.937613e-74 | \n",
       "| consumoDiaPolloG |     6.861097  |  0.4119671    |  16.65448     |  5.755484e-60 | \n",
       "| I(consumoDiaPolloG * AD3Inicio) |    13.150386  |  0.6380876    |  20.60906     |  4.210629e-89 | \n",
       "\n",
       "\n"
      ],
      "text/plain": [
       "                                Estimate     Std. Error t value   Pr(>|t|)     \n",
       "(Intercept)                      1510.003894 36.7062240  41.13754 1.881957e-301\n",
       "AD3Inicio                       -1089.249337 58.4709073 -18.62891  6.937613e-74\n",
       "consumoDiaPolloG                    6.861097  0.4119671  16.65448  5.755484e-60\n",
       "I(consumoDiaPolloG * AD3Inicio)    13.150386  0.6380876  20.60906  4.210629e-89"
      ]
     },
     "metadata": {},
     "output_type": "display_data"
    }
   ],
   "source": [
    "#Inicio\n",
    "inicio <- ad3[ad3$AD3Inicio ==1 & ad3$AD3Preinicio == 0 | ad3$AD3Engrode==0 & ad3$AD3Preinicio == 0,c(\"pesoFinalPolloG\",\"consumoDiaPolloG\",\"AD3Inicio\")] \n",
    "inicio$Suplemento <- ifelse(inicio$AD3Inicio==0,\"Base\",\"Inicio\")\n",
    "reg.inicio <- lm(pesoFinalPolloG~AD3Inicio + consumoDiaPolloG + I(consumoDiaPolloG*AD3Inicio),inicio)\n",
    "summary(reg.inicio)$coefficients\n",
    "\n",
    "dat <- data.frame(x=60:150)\n",
    "\n",
    "dat$linear <- reg.inicio$coefficients[1] + reg.inicio$coefficients[3]*dat$x\n",
    "dat$inicio <- reg.inicio$coefficients[1] + reg.inicio$coefficients[2] + reg.inicio$coefficients[3]*dat$x + reg.inicio$coefficients[4]*dat$x \n",
    "\n",
    "p3 <- ggplot() +\n",
    "  geom_point(data = inicio, aes(x = consumoDiaPolloG, y = pesoFinalPolloG, color= Suplemento), size = 0.6)+\n",
    "  scale_color_manual(values=c(\"blue\", \"red\")) +\n",
    "  geom_line(data = dat, aes(x = x, y = linear), color=\"blue\", size = 0.3)+\n",
    "  geom_line(data = dat, aes(x = x, y = inicio), color=\"red\", size = 0.3)+\n",
    "  xlim(50,150)+ ylim(1500,3600) + theme(legend.position = c(.15, .85))+  \n",
    "    xlab(\"Consumo por dia (g)\") +\n",
    "    ylab(\"Peso Final (g)\")+ \n",
    "    guides(colour = guide_legend(override.aes = list(size=2))) +\n",
    "    geom_text(mapping=aes(x2,y2,label = text2), data=data.frame(x2=140, y2=2600, text2=paste(\"Base \\n m=\",round(reg.inicio$coefficients[3]),2)), size=2.5) +\n",
    "    geom_text(mapping=aes(x2,y2,label = text2), data=data.frame(x2=130, y2=3500, text2=paste(\"Inicio \\nm=\",round(reg.inicio$coefficients[3] + reg.inicio$coefficients[4],2), \" t-value:\",round(summary(reg.inicio)$coefficients[4,3],2))), size=2.5) \n",
    "\n",
    "\n"
   ]
  },
  {
   "cell_type": "code",
   "execution_count": 85,
   "metadata": {},
   "outputs": [
    {
     "data": {
      "text/html": [
       "<table>\n",
       "<thead><tr><th></th><th scope=col>Estimate</th><th scope=col>Std. Error</th><th scope=col>t value</th><th scope=col>Pr(&gt;|t|)</th></tr></thead>\n",
       "<tbody>\n",
       "\t<tr><th scope=row>(Intercept)</th><td> 1510.003894 </td><td> 40.2044978  </td><td>37.558084    </td><td>1.351234e-222</td></tr>\n",
       "\t<tr><th scope=row>AD3Preinicio</th><td>-1694.463259 </td><td>175.7617080  </td><td>-9.640685    </td><td> 1.998822e-21</td></tr>\n",
       "\t<tr><th scope=row>consumoDiaPolloG</th><td>    6.861097 </td><td>  0.4512294  </td><td>15.205339    </td><td> 6.553898e-49</td></tr>\n",
       "\t<tr><th scope=row>I(consumoDiaPolloG * AD3Preinicio)</th><td>   19.197213 </td><td>  1.5071309  </td><td>12.737588    </td><td> 1.730669e-35</td></tr>\n",
       "</tbody>\n",
       "</table>\n"
      ],
      "text/latex": [
       "\\begin{tabular}{r|llll}\n",
       "  & Estimate & Std. Error & t value & Pr(>\\textbar{}t\\textbar{})\\\\\n",
       "\\hline\n",
       "\t(Intercept) &  1510.003894  &  40.2044978   & 37.558084     & 1.351234e-222\\\\\n",
       "\tAD3Preinicio & -1694.463259  & 175.7617080   & -9.640685     &  1.998822e-21\\\\\n",
       "\tconsumoDiaPolloG &     6.861097  &   0.4512294   & 15.205339     &  6.553898e-49\\\\\n",
       "\tI(consumoDiaPolloG * AD3Preinicio) &    19.197213  &   1.5071309   & 12.737588     &  1.730669e-35\\\\\n",
       "\\end{tabular}\n"
      ],
      "text/markdown": [
       "\n",
       "| <!--/--> | Estimate | Std. Error | t value | Pr(>|t|) | \n",
       "|---|---|---|---|\n",
       "| (Intercept) |  1510.003894  |  40.2044978   | 37.558084     | 1.351234e-222 | \n",
       "| AD3Preinicio | -1694.463259  | 175.7617080   | -9.640685     |  1.998822e-21 | \n",
       "| consumoDiaPolloG |     6.861097  |   0.4512294   | 15.205339     |  6.553898e-49 | \n",
       "| I(consumoDiaPolloG * AD3Preinicio) |    19.197213  |   1.5071309   | 12.737588     |  1.730669e-35 | \n",
       "\n",
       "\n"
      ],
      "text/plain": [
       "                                   Estimate     Std. Error  t value  \n",
       "(Intercept)                         1510.003894  40.2044978 37.558084\n",
       "AD3Preinicio                       -1694.463259 175.7617080 -9.640685\n",
       "consumoDiaPolloG                       6.861097   0.4512294 15.205339\n",
       "I(consumoDiaPolloG * AD3Preinicio)    19.197213   1.5071309 12.737588\n",
       "                                   Pr(>|t|)     \n",
       "(Intercept)                        1.351234e-222\n",
       "AD3Preinicio                        1.998822e-21\n",
       "consumoDiaPolloG                    6.553898e-49\n",
       "I(consumoDiaPolloG * AD3Preinicio)  1.730669e-35"
      ]
     },
     "metadata": {},
     "output_type": "display_data"
    }
   ],
   "source": [
    "#Prenicio\n",
    "preinicio <- ad3[ad3$AD3Preinicio ==1 | ad3$AD3Engrode==0 & ad3$AD3Inicio == 0,c(\"pesoFinalPolloG\",\"consumoDiaPolloG\",\"AD3Preinicio\")] \n",
    "preinicio$Suplemento <- ifelse(preinicio$AD3Preinicio==0,\"Base\",\"Preinicio\")\n",
    "reg.preinicio <- lm(pesoFinalPolloG~AD3Preinicio + consumoDiaPolloG + I(consumoDiaPolloG*AD3Preinicio),preinicio)\n",
    "summary(reg.preinicio)$coefficients\n",
    "\n",
    "dat <- data.frame(x=60:150)\n",
    "\n",
    "dat$linear <- reg.preinicio$coefficients[1] + reg.preinicio$coefficients[3]*dat$x\n",
    "dat$preinicio <- reg.preinicio$coefficients[1] + reg.preinicio$coefficients[2] + reg.preinicio$coefficients[3]*dat$x + reg.preinicio$coefficients[4]*dat$x \n",
    "\n",
    "p4 <- ggplot() +\n",
    "  geom_point(data = preinicio, aes(x = consumoDiaPolloG, y = pesoFinalPolloG, color= Suplemento), size = 0.6)+\n",
    "  scale_color_manual(values=c(\"blue\",\"red\")) +\n",
    "  geom_line(data = dat, aes(x = x, y = linear), color=\"blue\", size = 0.3)+\n",
    "  geom_line(data = dat, aes(x = x, y = preinicio), color=\"red\", size = 0.3)+\n",
    "  xlim(50,150) + ylim(1500,3600) + theme(legend.position = c(.15, .85))+  \n",
    "    xlab(\"Consumo por dia (g)\") +\n",
    "    ylab(\"Peso Final (g)\")+ \n",
    "    guides(colour = guide_legend(override.aes = list(size=2)))+\n",
    "    geom_text(mapping=aes(x2,y2,label = text2), data=data.frame(x2=140, y2=2600, text2=paste(\"Base \\n m=\",round(reg.preinicio$coefficients[3]),2)), size=2.5) +\n",
    "    geom_text(mapping=aes(x2,y2,label = text2), data=data.frame(x2=130, y2=3500, text2=paste(\"Preinicio \\nm=\",round(reg.preinicio$coefficients[3] + reg.preinicio$coefficients[4],2), \" t-value:\",round(summary(reg.preinicio)$coefficients[4,3],2))), size=2.5) \n",
    "\n"
   ]
  },
  {
   "cell_type": "code",
   "execution_count": 86,
   "metadata": {},
   "outputs": [
    {
     "name": "stderr",
     "output_type": "stream",
     "text": [
      "Warning message:\n",
      "\"Removed 57 rows containing missing values (geom_point).\"Warning message:\n",
      "\"Removed 56 rows containing missing values (geom_point).\"Warning message:\n",
      "\"Removed 55 rows containing missing values (geom_point).\"Warning message:\n",
      "\"Removed 56 rows containing missing values (geom_point).\"Warning message:\n",
      "\"Removed 10 rows containing missing values (geom_path).\""
     ]
    },
    {
     "data": {
      "image/png": "[encoded data removed]",
      "text/plain": [
       "plot without title"
      ]
     },
     "metadata": {},
     "output_type": "display_data",
     "source": "R display func"
    }
   ],
   "source": [
    "options(repr.plot.width=9,repr.plot.height=8) #Graph sizing in jupyter,for rstudio is not required\n",
    "grid.arrange(p1, p2, p3, p4, ncol = 2, top=textGrob(\"\\n Comparativo de Consumo por dia vs Peso final \"))"
   ]
  },
  {
   "cell_type": "markdown",
   "metadata": {},
   "source": [
    "El analisis de regresion permite reconocer las tendencias generales de los diferentes grupos de control y al mismo tiemppo determinar que tan estadisticamente significativas son estas diferencias. El parametro m mide la pendiente de la curva de regresion de los differentes grupoes de control. Adicionalmente es posible calcular que tan estadisticamente significativo es "
   ]
  },
  {
   "cell_type": "code",
   "execution_count": null,
   "metadata": {},
   "outputs": [],
   "source": []
  },
  {
   "cell_type": "markdown",
   "metadata": {},
   "source": [
    "### 6. Analisis de regresion de conversion\n",
    "Como último paso procederemos a realizar un análisis de regresión para analizar el efecto de los diferentes suplementos en relación con el consumo por día y al peso final."
   ]
  },
  {
   "cell_type": "code",
   "execution_count": 285,
   "metadata": {},
   "outputs": [
    {
     "data": {
      "text/html": [
       "<table>\n",
       "<thead><tr><th></th><th scope=col>Estimate</th><th scope=col>Std. Error</th><th scope=col>t value</th><th scope=col>Pr(&gt;|t|)</th></tr></thead>\n",
       "<tbody>\n",
       "\t<tr><th scope=row>(Intercept)</th><td>27.7496541   </td><td>1.02352671   </td><td> 27.11180    </td><td>2.068550e-134</td></tr>\n",
       "\t<tr><th scope=row>sup</th><td>29.1068063   </td><td>2.76826307   </td><td> 10.51447    </td><td> 4.428045e-25</td></tr>\n",
       "\t<tr><th scope=row>invar</th><td> 0.2660245   </td><td>0.01148767   </td><td> 23.15741    </td><td>4.306025e-103</td></tr>\n",
       "\t<tr><th scope=row>I(invar * sup)</th><td>-0.2681146   </td><td>0.02617171   </td><td>-10.24445    </td><td> 6.308233e-24</td></tr>\n",
       "</tbody>\n",
       "</table>\n"
      ],
      "text/latex": [
       "\\begin{tabular}{r|llll}\n",
       "  & Estimate & Std. Error & t value & Pr(>\\textbar{}t\\textbar{})\\\\\n",
       "\\hline\n",
       "\t(Intercept) & 27.7496541    & 1.02352671    &  27.11180     & 2.068550e-134\\\\\n",
       "\tsup & 29.1068063    & 2.76826307    &  10.51447     &  4.428045e-25\\\\\n",
       "\tinvar &  0.2660245    & 0.01148767    &  23.15741     & 4.306025e-103\\\\\n",
       "\tI(invar * sup) & -0.2681146    & 0.02617171    & -10.24445     &  6.308233e-24\\\\\n",
       "\\end{tabular}\n"
      ],
      "text/markdown": [
       "\n",
       "| <!--/--> | Estimate | Std. Error | t value | Pr(>|t|) | \n",
       "|---|---|---|---|\n",
       "| (Intercept) | 27.7496541    | 1.02352671    |  27.11180     | 2.068550e-134 | \n",
       "| sup | 29.1068063    | 2.76826307    |  10.51447     |  4.428045e-25 | \n",
       "| invar |  0.2660245    | 0.01148767    |  23.15741     | 4.306025e-103 | \n",
       "| I(invar * sup) | -0.2681146    | 0.02617171    | -10.24445     |  6.308233e-24 | \n",
       "\n",
       "\n"
      ],
      "text/plain": [
       "               Estimate   Std. Error t value   Pr(>|t|)     \n",
       "(Intercept)    27.7496541 1.02352671  27.11180 2.068550e-134\n",
       "sup            29.1068063 2.76826307  10.51447  4.428045e-25\n",
       "invar           0.2660245 0.01148767  23.15741 4.306025e-103\n",
       "I(invar * sup) -0.2681146 0.02617171 -10.24445  6.308233e-24"
      ]
     },
     "metadata": {},
     "output_type": "display_data"
    }
   ],
   "source": [
    "x1<-60; x2<-135;y1<- 1.25; y2<-2.6\n",
    "\n",
    "#Engorde\n",
    "suplemento <- ad3[ad3$AD3Engrode==1 | ad3$AD3Inicio==0 & ad3$AD3Preinicio == 0,c(\"consumoDiaPolloG\",\"gananciaPesoDiaG\",\"AD3Engrode\")] \n",
    "colnames(suplemento) <- c(\"invar\",\"depvar\",\"sup\")\n",
    "suplemento$Suplemento <- ifelse(suplemento$sup==0,\"Base\",\"Engorde\")\n",
    "reg <- lm(depvar~sup + invar + I(invar*sup),suplemento)\n",
    "summary(reg)$coefficients\n",
    "\n",
    "dat <- data.frame(x=(x1+5):(x2-10))\n",
    "\n",
    "dat$linear <- reg$coefficients[1] + reg$coefficients[3]*dat$x\n",
    "dat$engorde <- reg$coefficients[1] + reg$coefficients[2] + reg$coefficients[3]*dat$x + reg$coefficients[4]*dat$x \n",
    "\n",
    "suplemento$conversion <- ifelse(suplemento$sup ==1, suplemento$invar/suplemento$depvar,NA)\n",
    "suplemento$conversion.base <- ifelse(suplemento$sup ==0, suplemento$invar/suplemento$depvar,NA)\n",
    "\n",
    "p1 <- ggplot(suplemento, aes(x = invar)) +\n",
    "    geom_smooth(aes(y = conversion*30),method = \"loess\", span = 2,color=\"red\",size = 0.6,fill=NA) +\n",
    "    geom_smooth(aes(y = conversion.base*30),method = \"loess\", span = 2,color=\"blue\",size = 0.6,fill=NA) +\n",
    "    geom_point(aes(y = depvar, color= Suplemento), size = 0.6)+\n",
    "#   geom_point(aes(y = conversion*30), color = \"yellow\",size = 2)+\n",
    "    scale_y_continuous(sec.axis = sec_axis(~./30, name = \"Conversion\"),limits = c(y1*30, y2*30)) +\n",
    "    scale_color_manual(values=c(\"blue\", \"red\")) +\n",
    "    geom_line(data = dat, aes(x = x, y = linear), color=\"blue\", size = 0.3, linetype = \"longdash\")+\n",
    "    geom_line(data = dat, aes(x = x, y = engorde), color=\"red\", size = 0.3, linetype = \"longdash\")+\n",
    "    xlim(x1,x2) + theme(legend.position = c(.15, .85))+  \n",
    "    xlab(\"Consumo por dia (g)\") +\n",
    "    ylab(\"Ganancia de peso por dia (g)\")+ \n",
    "    guides(colour = guide_legend(override.aes = list(size=2))) "
   ]
  },
  {
   "cell_type": "code",
   "execution_count": 277,
   "metadata": {},
   "outputs": [
    {
     "data": {
      "text/html": [
       "<table>\n",
       "<thead><tr><th></th><th scope=col>Estimate</th><th scope=col>Std. Error</th><th scope=col>t value</th><th scope=col>Pr(&gt;|t|)</th></tr></thead>\n",
       "<tbody>\n",
       "\t<tr><th scope=row>(Intercept)</th><td> 27.7496541  </td><td>0.859508694  </td><td> 32.28548    </td><td>4.185877e-200</td></tr>\n",
       "\t<tr><th scope=row>sup</th><td>-20.5716316  </td><td>1.369234440  </td><td>-15.02419    </td><td> 1.798783e-49</td></tr>\n",
       "\t<tr><th scope=row>invar</th><td>  0.2660245  </td><td>0.009646791  </td><td> 27.57648    </td><td>1.757387e-151</td></tr>\n",
       "\t<tr><th scope=row>I(invar * sup)</th><td>  0.2451689  </td><td>0.014942433  </td><td> 16.40756    </td><td> 2.559972e-58</td></tr>\n",
       "</tbody>\n",
       "</table>\n"
      ],
      "text/latex": [
       "\\begin{tabular}{r|llll}\n",
       "  & Estimate & Std. Error & t value & Pr(>\\textbar{}t\\textbar{})\\\\\n",
       "\\hline\n",
       "\t(Intercept) &  27.7496541   & 0.859508694   &  32.28548     & 4.185877e-200\\\\\n",
       "\tsup & -20.5716316   & 1.369234440   & -15.02419     &  1.798783e-49\\\\\n",
       "\tinvar &   0.2660245   & 0.009646791   &  27.57648     & 1.757387e-151\\\\\n",
       "\tI(invar * sup) &   0.2451689   & 0.014942433   &  16.40756     &  2.559972e-58\\\\\n",
       "\\end{tabular}\n"
      ],
      "text/markdown": [
       "\n",
       "| <!--/--> | Estimate | Std. Error | t value | Pr(>|t|) | \n",
       "|---|---|---|---|\n",
       "| (Intercept) |  27.7496541   | 0.859508694   |  32.28548     | 4.185877e-200 | \n",
       "| sup | -20.5716316   | 1.369234440   | -15.02419     |  1.798783e-49 | \n",
       "| invar |   0.2660245   | 0.009646791   |  27.57648     | 1.757387e-151 | \n",
       "| I(invar * sup) |   0.2451689   | 0.014942433   |  16.40756     |  2.559972e-58 | \n",
       "\n",
       "\n"
      ],
      "text/plain": [
       "               Estimate    Std. Error  t value   Pr(>|t|)     \n",
       "(Intercept)     27.7496541 0.859508694  32.28548 4.185877e-200\n",
       "sup            -20.5716316 1.369234440 -15.02419  1.798783e-49\n",
       "invar            0.2660245 0.009646791  27.57648 1.757387e-151\n",
       "I(invar * sup)   0.2451689 0.014942433  16.40756  2.559972e-58"
      ]
     },
     "metadata": {},
     "output_type": "display_data"
    }
   ],
   "source": [
    "#Inicio\n",
    "suplemento <- ad3[ad3$AD3Inicio ==1 & ad3$AD3Preinicio == 0 | ad3$AD3Engrode==0 & ad3$AD3Preinicio == 0,c(\"consumoDiaPolloG\",\"gananciaPesoDiaG\",\"AD3Inicio\")] \n",
    "colnames(suplemento) <- c(\"invar\",\"depvar\",\"sup\")\n",
    "suplemento$Suplemento <- ifelse(suplemento$sup==0,\"Base\",\"Inicio\")\n",
    "reg <- lm(depvar~sup + invar + I(invar*sup),suplemento)\n",
    "summary(reg)$coefficients\n",
    "\n",
    "dat <- data.frame(x=(x1+5):(x2-10))\n",
    "\n",
    "dat$linear <- reg$coefficients[1] + reg$coefficients[3]*dat$x\n",
    "dat$engorde <- reg$coefficients[1] + reg$coefficients[2] + reg$coefficients[3]*dat$x + reg$coefficients[4]*dat$x \n",
    "\n",
    "suplemento$conversion <- ifelse(suplemento$sup ==1, suplemento$invar/suplemento$depvar,NA)\n",
    "suplemento$conversion.base <- ifelse(suplemento$sup ==0, suplemento$invar/suplemento$depvar,NA)\n",
    "\n",
    "p2 <- ggplot(suplemento, aes(x = invar)) +\n",
    "    geom_smooth(aes(y = conversion*30),method = \"loess\", span = 2,color=\"red\",size = 0.6,fill=NA) +\n",
    "    geom_smooth(aes(y = conversion.base*30),method = \"loess\", span = 2,color=\"blue\",size = 0.6,fill=NA) +\n",
    "    geom_point(aes(y = depvar, color= Suplemento), size = 0.6)+\n",
    "#   geom_point(aes(y = conversion*30), color = \"yellow\",size = 2)+\n",
    "    scale_y_continuous(sec.axis = sec_axis(~./30, name = \"Conversion\"),limits = c(y1*30, y2*30)) +\n",
    "    scale_color_manual(values=c(\"blue\", \"red\")) +\n",
    "    geom_line(data = dat, aes(x = x, y = linear), color=\"blue\", size = 0.3, linetype = \"longdash\")+\n",
    "    geom_line(data = dat, aes(x = x, y = engorde), color=\"red\", size = 0.3, linetype = \"longdash\")+\n",
    "    xlim(x1,x2) + theme(legend.position = c(.15, .85))+  \n",
    "    xlab(\"Consumo por dia (g)\") +\n",
    "    ylab(\"Ganancia de peso por dia (g)\")+ \n",
    "    guides(colour = guide_legend(override.aes = list(size=2))) "
   ]
  },
  {
   "cell_type": "code",
   "execution_count": 284,
   "metadata": {},
   "outputs": [
    {
     "data": {
      "text/html": [
       "<table>\n",
       "<thead><tr><th></th><th scope=col>Estimate</th><th scope=col>Std. Error</th><th scope=col>t value</th><th scope=col>Pr(&gt;|t|)</th></tr></thead>\n",
       "<tbody>\n",
       "\t<tr><th scope=row>(Intercept)</th><td> 27.7496541  </td><td>0.92926017   </td><td>29.862093    </td><td>1.699589e-156</td></tr>\n",
       "\t<tr><th scope=row>sup</th><td>-17.4675192  </td><td>4.06284101   </td><td>-4.299336    </td><td> 1.815148e-05</td></tr>\n",
       "\t<tr><th scope=row>invar</th><td>  0.2660245  </td><td>0.01042965   </td><td>25.506552    </td><td>6.200714e-121</td></tr>\n",
       "\t<tr><th scope=row>I(invar * sup)</th><td>  0.2480338  </td><td>0.03483820   </td><td> 7.119594    </td><td> 1.620414e-12</td></tr>\n",
       "</tbody>\n",
       "</table>\n"
      ],
      "text/latex": [
       "\\begin{tabular}{r|llll}\n",
       "  & Estimate & Std. Error & t value & Pr(>\\textbar{}t\\textbar{})\\\\\n",
       "\\hline\n",
       "\t(Intercept) &  27.7496541   & 0.92926017    & 29.862093     & 1.699589e-156\\\\\n",
       "\tsup & -17.4675192   & 4.06284101    & -4.299336     &  1.815148e-05\\\\\n",
       "\tinvar &   0.2660245   & 0.01042965    & 25.506552     & 6.200714e-121\\\\\n",
       "\tI(invar * sup) &   0.2480338   & 0.03483820    &  7.119594     &  1.620414e-12\\\\\n",
       "\\end{tabular}\n"
      ],
      "text/markdown": [
       "\n",
       "| <!--/--> | Estimate | Std. Error | t value | Pr(>|t|) | \n",
       "|---|---|---|---|\n",
       "| (Intercept) |  27.7496541   | 0.92926017    | 29.862093     | 1.699589e-156 | \n",
       "| sup | -17.4675192   | 4.06284101    | -4.299336     |  1.815148e-05 | \n",
       "| invar |   0.2660245   | 0.01042965    | 25.506552     | 6.200714e-121 | \n",
       "| I(invar * sup) |   0.2480338   | 0.03483820    |  7.119594     |  1.620414e-12 | \n",
       "\n",
       "\n"
      ],
      "text/plain": [
       "               Estimate    Std. Error t value   Pr(>|t|)     \n",
       "(Intercept)     27.7496541 0.92926017 29.862093 1.699589e-156\n",
       "sup            -17.4675192 4.06284101 -4.299336  1.815148e-05\n",
       "invar            0.2660245 0.01042965 25.506552 6.200714e-121\n",
       "I(invar * sup)   0.2480338 0.03483820  7.119594  1.620414e-12"
      ]
     },
     "metadata": {},
     "output_type": "display_data"
    }
   ],
   "source": [
    "#Pre-Inicio\n",
    "\n",
    "suplemento <- ad3[ad3$AD3Preinicio ==1 | ad3$AD3Engrode==0 & ad3$AD3Inicio == 0,c(\"consumoDiaPolloG\",\"gananciaPesoDiaG\",\"AD3Preinicio\")] \n",
    "colnames(suplemento) <- c(\"invar\",\"depvar\",\"sup\")\n",
    "suplemento$Suplemento <- ifelse(suplemento$sup==0,\"Base\",\"Pre-Inicio\")\n",
    "reg <- lm(depvar~sup + invar + I(invar*sup),suplemento)\n",
    "summary(reg)$coefficients\n",
    "\n",
    "dat <- data.frame(x=(x1+5):(x2-10))\n",
    "\n",
    "dat$linear <- reg$coefficients[1] + reg$coefficients[3]*dat$x\n",
    "dat$engorde <- reg$coefficients[1] + reg$coefficients[2] + reg$coefficients[3]*dat$x + reg$coefficients[4]*dat$x \n",
    "\n",
    "suplemento$conversion <- ifelse(suplemento$sup ==1, suplemento$invar/suplemento$depvar,NA)\n",
    "suplemento$conversion.base <- ifelse(suplemento$sup ==0, suplemento$invar/suplemento$depvar,NA)\n",
    "\n",
    "p3 <- ggplot(suplemento, aes(x = invar)) +\n",
    "    geom_smooth(aes(y = conversion*30),method = \"loess\", span = 2,color=\"red\",size = 0.6,fill=NA) +\n",
    "    geom_smooth(aes(y = conversion.base*30),method = \"loess\", span = 2,color=\"blue\",size = 0.6,fill=NA) +\n",
    "    geom_point(aes(y = depvar, color= Suplemento), size = 0.6)+\n",
    "#   geom_point(aes(y = conversion*30), color = \"yellow\",size = 2)+\n",
    "    scale_y_continuous(sec.axis = sec_axis(~./30, name = \"Conversion\"),limits = c(y1*30, y2*30)) +\n",
    "    scale_color_manual(values=c(\"blue\", \"red\")) +\n",
    "    geom_line(data = dat, aes(x = x, y = linear), color=\"blue\", size = 0.3, linetype = \"longdash\")+\n",
    "    geom_line(data = dat, aes(x = x, y = engorde), color=\"red\", size = 0.3, linetype = \"longdash\")+\n",
    "    xlim(x1,x2) + theme(legend.position = c(.15, .85))+  \n",
    "    xlab(\"Consumo por dia (g)\") +\n",
    "    ylab(\"Ganancia de peso por dia (g)\")+ \n",
    "    guides(colour = guide_legend(override.aes = list(size=2))) "
   ]
  },
  {
   "cell_type": "code",
   "execution_count": 286,
   "metadata": {},
   "outputs": [
    {
     "name": "stderr",
     "output_type": "stream",
     "text": [
      "Warning message:\n",
      "\"Removed 1649 rows containing non-finite values (stat_smooth).\"Warning message:\n",
      "\"Removed 134 rows containing non-finite values (stat_smooth).\"Warning message:\n",
      "\"Removed 58 rows containing missing values (geom_point).\"Warning message:\n",
      "\"Removed 1645 rows containing non-finite values (stat_smooth).\"Warning message:\n",
      "\"Removed 1924 rows containing non-finite values (stat_smooth).\"Warning message:\n",
      "\"Removed 54 rows containing missing values (geom_point).\"Warning message:\n",
      "\"Removed 1649 rows containing non-finite values (stat_smooth).\"Warning message:\n",
      "\"Removed 88 rows containing non-finite values (stat_smooth).\"Warning message:\n",
      "\"Removed 59 rows containing missing values (geom_point).\""
     ]
    },
    {
     "data": {
      "image/png": "[encoded data removed]",
      "text/plain": [
       "plot without title"
      ]
     },
     "metadata": {},
     "output_type": "display_data",
     "source": "R display func"
    }
   ],
   "source": [
    "options(repr.plot.width=9,repr.plot.height=8) #Graph sizing in jupyter,for rstudio is not required\n",
    "grid.arrange(p1, p2, p3, ncol = 2, top=textGrob(\"\\n Comparativo de Consumo por dia vs Ganancia de peso por dia \"))"
   ]
  },
  {
   "cell_type": "code",
   "execution_count": 183,
   "metadata": {},
   "outputs": [
    {
     "name": "stdout",
     "output_type": "stream",
     "text": [
      " num [1:1725] 45 43.3 44.2 42.9 42.4 ...\n"
     ]
    }
   ],
   "source": [
    "str(suplemento$conversion *25)"
   ]
  },
  {
   "cell_type": "code",
   "execution_count": null,
   "metadata": {},
   "outputs": [],
   "source": [
    "#Distribucion original del peso. Ligeramente inclinada hacia la izquierda\n",
    "v1 <- ad3[ad3$pesoFinalPolloG>0 & !is.na(ad3$pesoFinalPolloG),\"pesoFinalPolloG\"]\n",
    "p1 <-ggplot(data.frame(x=v1), aes(x)) + \n",
    "    theme(legend.position = \"none\") + \n",
    "    geom_histogram(aes(y = ..density..), colour = \"black\", fill = \"white\", binwidth = 75) + \n",
    "    labs(x = \"Peso Final\", y = \"Density\") + \n",
    "    stat_function(fun = dnorm, args = list(mean = mean(v1, na.rm = TRUE), sd = sd(v1, na.rm = TRUE)), size = 0.4)\n",
    "\n",
    "#QQ plot de la distribucion original\n",
    "p2 <-qplot(sample = v1)\n",
    "\n",
    "#Distribucion corregida por logaritmo\n",
    "v2 <- log(v1)\n",
    "p3 <-ggplot(data.frame(x=v2), aes(x)) + \n",
    "    theme(legend.position = \"none\") + \n",
    "    geom_histogram(aes(y = ..density..), colour = \"black\", fill = \"white\", binwidth = .02) + \n",
    "    labs(x = \"Peso Final\", y = \"Density\") + \n",
    "    stat_function(fun = dnorm, args = list(mean = mean(v2, na.rm = TRUE), sd = sd(v2, na.rm = TRUE)), size = 0.4)\n",
    "\n",
    "# QQplot de la distribucion corregida\n",
    "p4 <-qplot(sample = v2)\n",
    "\n",
    "options(repr.plot.width=9, repr.plot.height=3) #Graph sizing in jupyter,for rstudio is not required\n",
    "grid.arrange(p1, p2, p3, p4, ncol = 4, top=textGrob(\"\\n Visual normality inspection\"))"
   ]
  }
 ],
 "metadata": {
  "kernelspec": {
   "display_name": "R",
   "language": "R",
   "name": "ir"
  },
  "language_info": {
   "codemirror_mode": "r",
   "file_extension": ".r",
   "mimetype": "text/x-r-source",
   "name": "R",
   "pygments_lexer": "r",
   "version": "3.4.3"
  }
 },
 "nbformat": 4,
 "nbformat_minor": 2
}
