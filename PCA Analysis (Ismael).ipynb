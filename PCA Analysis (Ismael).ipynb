{
 "cells": [
  {
   "cell_type": "markdown",
   "metadata": {},
   "source": [
    "### 1. Import libraries"
   ]
  },
  {
   "cell_type": "code",
   "execution_count": 1,
   "metadata": {},
   "outputs": [
    {
     "name": "stderr",
     "output_type": "stream",
     "text": [
      "Warning message:\n",
      "\"package 'bestNormalize' was built under R version 3.4.4\""
     ]
    }
   ],
   "source": [
    "library(ggplot2)\n",
    "library(bestNormalize)\n",
    "library(reshape2)"
   ]
  },
  {
   "cell_type": "markdown",
   "metadata": {},
   "source": [
    "### 2. Import dataset"
   ]
  },
  {
   "cell_type": "code",
   "execution_count": 43,
   "metadata": {},
   "outputs": [
    {
     "data": {
      "text/html": [
       "<table>\n",
       "<thead><tr><th scope=col>fixed.acidity</th><th scope=col>volatile.acidity</th><th scope=col>citric.acid</th><th scope=col>residual.sugar</th><th scope=col>chlorides</th><th scope=col>free.sulfur.dioxide</th><th scope=col>total.sulfur.dioxide</th><th scope=col>density</th><th scope=col>pH</th><th scope=col>sulphates</th><th scope=col>alcohol</th></tr></thead>\n",
       "<tbody>\n",
       "\t<tr><td>7.0   </td><td>0.27  </td><td>0.36  </td><td>20.7  </td><td>0.045 </td><td>45    </td><td>170   </td><td>1.0010</td><td>3.00  </td><td>0.45  </td><td> 8.8  </td></tr>\n",
       "\t<tr><td>6.3   </td><td>0.30  </td><td>0.34  </td><td> 1.6  </td><td>0.049 </td><td>14    </td><td>132   </td><td>0.9940</td><td>3.30  </td><td>0.49  </td><td> 9.5  </td></tr>\n",
       "\t<tr><td>8.1   </td><td>0.28  </td><td>0.40  </td><td> 6.9  </td><td>0.050 </td><td>30    </td><td> 97   </td><td>0.9951</td><td>3.26  </td><td>0.44  </td><td>10.1  </td></tr>\n",
       "\t<tr><td>7.2   </td><td>0.23  </td><td>0.32  </td><td> 8.5  </td><td>0.058 </td><td>47    </td><td>186   </td><td>0.9956</td><td>3.19  </td><td>0.40  </td><td> 9.9  </td></tr>\n",
       "\t<tr><td>7.2   </td><td>0.23  </td><td>0.32  </td><td> 8.5  </td><td>0.058 </td><td>47    </td><td>186   </td><td>0.9956</td><td>3.19  </td><td>0.40  </td><td> 9.9  </td></tr>\n",
       "\t<tr><td>8.1   </td><td>0.28  </td><td>0.40  </td><td> 6.9  </td><td>0.050 </td><td>30    </td><td> 97   </td><td>0.9951</td><td>3.26  </td><td>0.44  </td><td>10.1  </td></tr>\n",
       "</tbody>\n",
       "</table>\n"
      ],
      "text/latex": [
       "\\begin{tabular}{r|lllllllllll}\n",
       " fixed.acidity & volatile.acidity & citric.acid & residual.sugar & chlorides & free.sulfur.dioxide & total.sulfur.dioxide & density & pH & sulphates & alcohol\\\\\n",
       "\\hline\n",
       "\t 7.0    & 0.27   & 0.36   & 20.7   & 0.045  & 45     & 170    & 1.0010 & 3.00   & 0.45   &  8.8  \\\\\n",
       "\t 6.3    & 0.30   & 0.34   &  1.6   & 0.049  & 14     & 132    & 0.9940 & 3.30   & 0.49   &  9.5  \\\\\n",
       "\t 8.1    & 0.28   & 0.40   &  6.9   & 0.050  & 30     &  97    & 0.9951 & 3.26   & 0.44   & 10.1  \\\\\n",
       "\t 7.2    & 0.23   & 0.32   &  8.5   & 0.058  & 47     & 186    & 0.9956 & 3.19   & 0.40   &  9.9  \\\\\n",
       "\t 7.2    & 0.23   & 0.32   &  8.5   & 0.058  & 47     & 186    & 0.9956 & 3.19   & 0.40   &  9.9  \\\\\n",
       "\t 8.1    & 0.28   & 0.40   &  6.9   & 0.050  & 30     &  97    & 0.9951 & 3.26   & 0.44   & 10.1  \\\\\n",
       "\\end{tabular}\n"
      ],
      "text/markdown": [
       "\n",
       "fixed.acidity | volatile.acidity | citric.acid | residual.sugar | chlorides | free.sulfur.dioxide | total.sulfur.dioxide | density | pH | sulphates | alcohol | \n",
       "|---|---|---|---|---|---|\n",
       "| 7.0    | 0.27   | 0.36   | 20.7   | 0.045  | 45     | 170    | 1.0010 | 3.00   | 0.45   |  8.8   | \n",
       "| 6.3    | 0.30   | 0.34   |  1.6   | 0.049  | 14     | 132    | 0.9940 | 3.30   | 0.49   |  9.5   | \n",
       "| 8.1    | 0.28   | 0.40   |  6.9   | 0.050  | 30     |  97    | 0.9951 | 3.26   | 0.44   | 10.1   | \n",
       "| 7.2    | 0.23   | 0.32   |  8.5   | 0.058  | 47     | 186    | 0.9956 | 3.19   | 0.40   |  9.9   | \n",
       "| 7.2    | 0.23   | 0.32   |  8.5   | 0.058  | 47     | 186    | 0.9956 | 3.19   | 0.40   |  9.9   | \n",
       "| 8.1    | 0.28   | 0.40   |  6.9   | 0.050  | 30     |  97    | 0.9951 | 3.26   | 0.44   | 10.1   | \n",
       "\n",
       "\n"
      ],
      "text/plain": [
       "  fixed.acidity volatile.acidity citric.acid residual.sugar chlorides\n",
       "1 7.0           0.27             0.36        20.7           0.045    \n",
       "2 6.3           0.30             0.34         1.6           0.049    \n",
       "3 8.1           0.28             0.40         6.9           0.050    \n",
       "4 7.2           0.23             0.32         8.5           0.058    \n",
       "5 7.2           0.23             0.32         8.5           0.058    \n",
       "6 8.1           0.28             0.40         6.9           0.050    \n",
       "  free.sulfur.dioxide total.sulfur.dioxide density pH   sulphates alcohol\n",
       "1 45                  170                  1.0010  3.00 0.45       8.8   \n",
       "2 14                  132                  0.9940  3.30 0.49       9.5   \n",
       "3 30                   97                  0.9951  3.26 0.44      10.1   \n",
       "4 47                  186                  0.9956  3.19 0.40       9.9   \n",
       "5 47                  186                  0.9956  3.19 0.40       9.9   \n",
       "6 30                   97                  0.9951  3.26 0.44      10.1   "
      ]
     },
     "metadata": {},
     "output_type": "display_data"
    }
   ],
   "source": [
    "wines <- read.csv(\"winequality-joined.csv\", stringsAsFactors = FALSE)\n",
    "whites <- wines[wines$type == \"white\",1:11]\n",
    "head(whites)"
   ]
  },
  {
   "cell_type": "markdown",
   "metadata": {},
   "source": [
    "### 3. Normalize each column"
   ]
  },
  {
   "cell_type": "code",
   "execution_count": 44,
   "metadata": {},
   "outputs": [
    {
     "name": "stderr",
     "output_type": "stream",
     "text": [
      "Warning message in orderNorm(x = c(7, 6.3, 8.1, 7.2, 7.2, 8.1, 6.2, 7, 6.3, 8.1, :\n",
      "\"Ties in data, Normal distribution not guaranteed\n",
      "\"Warning message in orderNorm(x = c(0.27, 0.3, 0.28, 0.23, 0.23, 0.28, 0.32, 0.27, :\n",
      "\"Ties in data, Normal distribution not guaranteed\n",
      "\"Warning message in bestNormalize(x):\n",
      "\"boxcox  did not work;  Error in estimate_boxcox_lambda(x, ...) : x must be positive\n",
      "\"Warning message in orderNorm(x = c(0.36, 0.34, 0.4, 0.32, 0.32, 0.4, 0.16, 0.36, :\n",
      "\"Ties in data, Normal distribution not guaranteed\n",
      "\"Warning message in orderNorm(x = c(20.7, 1.6, 6.9, 8.5, 8.5, 6.9, 7, 20.7, 1.6, :\n",
      "\"Ties in data, Normal distribution not guaranteed\n",
      "\"Warning message in orderNorm(x = c(0.045, 0.049, 0.05, 0.058, 0.058, 0.05, 0.045, :\n",
      "\"Ties in data, Normal distribution not guaranteed\n",
      "\"Warning message in orderNorm(x = c(45, 14, 30, 47, 47, 30, 30, 45, 14, 28, 11, 17, :\n",
      "\"Ties in data, Normal distribution not guaranteed\n",
      "\"Warning message in orderNorm(x = c(170, 132, 97, 186, 186, 97, 136, 170, 132, 129, :\n",
      "\"Ties in data, Normal distribution not guaranteed\n",
      "\"Warning message in orderNorm(x = c(1.001, 0.994, 0.9951, 0.9956, 0.9956, 0.9951, :\n",
      "\"Ties in data, Normal distribution not guaranteed\n",
      "\"Warning message in orderNorm(x = c(3, 3.3, 3.26, 3.19, 3.19, 3.26, 3.18, 3, 3.3, :\n",
      "\"Ties in data, Normal distribution not guaranteed\n",
      "\"Warning message in orderNorm(x = c(0.45, 0.49, 0.44, 0.4, 0.4, 0.44, 0.47, 0.45, :\n",
      "\"Ties in data, Normal distribution not guaranteed\n",
      "\"Warning message in orderNorm(x = c(8.8, 9.5, 10.1, 9.9, 9.9, 10.1, 9.6, 8.8, 9.5, :\n",
      "\"Ties in data, Normal distribution not guaranteed\n",
      "\""
     ]
    }
   ],
   "source": [
    "### Apply best normalize to each column\n",
    "normal.list.whites <-lapply(whites, function(x) bestNormalize(x)) "
   ]
  },
  {
   "cell_type": "code",
   "execution_count": 45,
   "metadata": {},
   "outputs": [],
   "source": [
    "#convert list to a dataframe for whites\n",
    "normal.whites<-normal.list.whites[[1]][[1]]\n",
    "for (i in 2:11) {\n",
    "    normal.whites <- cbind(normal.whites ,normal.list.whites[[i]][[1]])\n",
    "    }\n",
    "colnames(normal.whites) <- colnames(wines[1:11])"
   ]
  },
  {
   "cell_type": "code",
   "execution_count": 46,
   "metadata": {},
   "outputs": [
    {
     "data": {},
     "metadata": {},
     "output_type": "display_data"
    },
    {
     "data": {
      "image/png": "[encoded data removed]",
      "text/plain": [
       "plot without title"
      ]
     },
     "metadata": {},
     "output_type": "display_data",
     "source": "R display func"
    }
   ],
   "source": [
    "options(repr.plot.width=5, repr.plot.height=5) #Graph sizing in jupyter,for rstudio is not required\n",
    "\n",
    "ggplot(data = melt(normal.whites), mapping = aes(x = value)) + \n",
    "    geom_histogram(bins = 20) + facet_wrap(~Var2, scales = 'free_x')"
   ]
  },
  {
   "cell_type": "markdown",
   "metadata": {},
   "source": [
    "### 4. Run PCA analysis Whites"
   ]
  },
  {
   "cell_type": "code",
   "execution_count": 47,
   "metadata": {},
   "outputs": [
    {
     "name": "stdout",
     "output_type": "stream",
     "text": [
      "All 4898 observations are valid.\n"
     ]
    },
    {
     "data": {
      "text/html": [
       "<table>\n",
       "<thead><tr><th></th><th scope=col>Eigenvalues</th><th scope=col>% explained</th><th scope=col>% explained cum.</th></tr></thead>\n",
       "<tbody>\n",
       "\t<tr><th scope=row>PC1</th><td>3.3738 </td><td>30.6710</td><td>30.6710</td></tr>\n",
       "\t<tr><th scope=row>PC2</th><td>1.6094 </td><td>14.6308</td><td>45.3018</td></tr>\n",
       "\t<tr><th scope=row>PC3</th><td>1.2422 </td><td>11.2925</td><td>56.5943</td></tr>\n",
       "\t<tr><th scope=row>PC4</th><td>1.0428 </td><td> 9.4796</td><td>66.0739</td></tr>\n",
       "\t<tr><th scope=row>PC5</th><td>0.9714 </td><td> 8.8308</td><td>74.9047</td></tr>\n",
       "\t<tr><th scope=row>PC6</th><td>0.7816 </td><td> 7.1054</td><td>82.0101</td></tr>\n",
       "\t<tr><th scope=row>PC7</th><td>0.6908 </td><td> 6.2796</td><td>88.2897</td></tr>\n",
       "\t<tr><th scope=row>PC8</th><td>0.5521 </td><td> 5.0191</td><td>93.3088</td></tr>\n",
       "\t<tr><th scope=row>PC9</th><td>0.4108 </td><td> 3.7349</td><td>97.0437</td></tr>\n",
       "\t<tr><th scope=row>PC10</th><td>0.2815 </td><td> 2.5590</td><td>99.6027</td></tr>\n",
       "\t<tr><th scope=row>PC11</th><td>0.0437 </td><td> 0.3972</td><td>99.9999</td></tr>\n",
       "</tbody>\n",
       "</table>\n"
      ],
      "text/latex": [
       "\\begin{tabular}{r|lll}\n",
       "  & Eigenvalues & \\% explained & \\% explained cum.\\\\\n",
       "\\hline\n",
       "\tPC1 & 3.3738  & 30.6710 & 30.6710\\\\\n",
       "\tPC2 & 1.6094  & 14.6308 & 45.3018\\\\\n",
       "\tPC3 & 1.2422  & 11.2925 & 56.5943\\\\\n",
       "\tPC4 & 1.0428  &  9.4796 & 66.0739\\\\\n",
       "\tPC5 & 0.9714  &  8.8308 & 74.9047\\\\\n",
       "\tPC6 & 0.7816  &  7.1054 & 82.0101\\\\\n",
       "\tPC7 & 0.6908  &  6.2796 & 88.2897\\\\\n",
       "\tPC8 & 0.5521  &  5.0191 & 93.3088\\\\\n",
       "\tPC9 & 0.4108  &  3.7349 & 97.0437\\\\\n",
       "\tPC10 & 0.2815  &  2.5590 & 99.6027\\\\\n",
       "\tPC11 & 0.0437  &  0.3972 & 99.9999\\\\\n",
       "\\end{tabular}\n"
      ],
      "text/markdown": [
       "\n",
       "| <!--/--> | Eigenvalues | % explained | % explained cum. | \n",
       "|---|---|---|---|---|---|---|---|---|---|---|\n",
       "| PC1 | 3.3738  | 30.6710 | 30.6710 | \n",
       "| PC2 | 1.6094  | 14.6308 | 45.3018 | \n",
       "| PC3 | 1.2422  | 11.2925 | 56.5943 | \n",
       "| PC4 | 1.0428  |  9.4796 | 66.0739 | \n",
       "| PC5 | 0.9714  |  8.8308 | 74.9047 | \n",
       "| PC6 | 0.7816  |  7.1054 | 82.0101 | \n",
       "| PC7 | 0.6908  |  6.2796 | 88.2897 | \n",
       "| PC8 | 0.5521  |  5.0191 | 93.3088 | \n",
       "| PC9 | 0.4108  |  3.7349 | 97.0437 | \n",
       "| PC10 | 0.2815  |  2.5590 | 99.6027 | \n",
       "| PC11 | 0.0437  |  0.3972 | 99.9999 | \n",
       "\n",
       "\n"
      ],
      "text/plain": [
       "     Eigenvalues % explained % explained cum.\n",
       "PC1  3.3738      30.6710     30.6710         \n",
       "PC2  1.6094      14.6308     45.3018         \n",
       "PC3  1.2422      11.2925     56.5943         \n",
       "PC4  1.0428       9.4796     66.0739         \n",
       "PC5  0.9714       8.8308     74.9047         \n",
       "PC6  0.7816       7.1054     82.0101         \n",
       "PC7  0.6908       6.2796     88.2897         \n",
       "PC8  0.5521       5.0191     93.3088         \n",
       "PC9  0.4108       3.7349     97.0437         \n",
       "PC10 0.2815       2.5590     99.6027         \n",
       "PC11 0.0437       0.3972     99.9999         "
      ]
     },
     "metadata": {},
     "output_type": "display_data"
    },
    {
     "data": {
      "text/html": [
       "<table>\n",
       "<thead><tr><th></th><th scope=col>PC1</th><th scope=col>PC2</th><th scope=col>PC3</th><th scope=col>PC4</th><th scope=col>PC5</th><th scope=col>PC6</th><th scope=col>PC7</th><th scope=col>PC8</th><th scope=col>PC9</th><th scope=col>PC10</th><th scope=col>PC11</th></tr></thead>\n",
       "<tbody>\n",
       "\t<tr><th scope=row>fixed.acidity</th><td> 0.29354504  </td><td> 0.75971507  </td><td>-0.06766687  </td><td> 0.03701085  </td><td>-0.217819460 </td><td>-0.03728159  </td><td> 0.109801984 </td><td> 0.50338128  </td><td>-0.08385318  </td><td> 0.087624485 </td><td>-0.0414955456</td></tr>\n",
       "\t<tr><th scope=row>volatile.acidity</th><td> 0.02048423  </td><td>-0.12296846  </td><td> 0.66297311  </td><td> 0.27084220  </td><td>-0.593731142 </td><td>-0.19565854  </td><td>-0.239239231 </td><td>-0.04216277  </td><td> 0.08972113  </td><td> 0.117074058 </td><td> 0.0014327609</td></tr>\n",
       "\t<tr><th scope=row>citric.acid</th><td> 0.20097285  </td><td> 0.48864234  </td><td>-0.57347751  </td><td> 0.14173859  </td><td>-0.111274505 </td><td>-0.07343847  </td><td>-0.542559081 </td><td>-0.23895621  </td><td> 0.05109027  </td><td> 0.004029638 </td><td>-0.0004338972</td></tr>\n",
       "\t<tr><th scope=row>residual.sugar</th><td> 0.71504261  </td><td>-0.03470278  </td><td> 0.24040077  </td><td> 0.17052835  </td><td> 0.034406672 </td><td> 0.52771653  </td><td>-0.111840653 </td><td>-0.13142638  </td><td>-0.28922509  </td><td>-0.022403713 </td><td>-0.0838717923</td></tr>\n",
       "\t<tr><th scope=row>chlorides</th><td> 0.59829802  </td><td>-0.07627931  </td><td> 0.04669522  </td><td>-0.48427771  </td><td>-0.021073697 </td><td>-0.51016617  </td><td>-0.021643144 </td><td>-0.11751191  </td><td>-0.35178807  </td><td> 0.027254222 </td><td>-0.0051841025</td></tr>\n",
       "\t<tr><th scope=row>free.sulfur.dioxide</th><td> 0.53940890  </td><td>-0.31274677  </td><td>-0.28134947  </td><td> 0.56888721  </td><td> 0.210775349 </td><td>-0.18084137  </td><td> 0.188205734 </td><td>-0.02221235  </td><td>-0.02698854  </td><td> 0.307584794 </td><td> 0.0074757780</td></tr>\n",
       "\t<tr><th scope=row>total.sulfur.dioxide</th><td> 0.73969760  </td><td>-0.27502368  </td><td>-0.11425334  </td><td> 0.35634784  </td><td>-0.097751385 </td><td>-0.22435141  </td><td> 0.040904543 </td><td> 0.14824423  </td><td> 0.06232445  </td><td>-0.386931297 </td><td>-0.0057653229</td></tr>\n",
       "\t<tr><th scope=row>density</th><td> 0.91455240  </td><td> 0.02498947  </td><td> 0.10302426  </td><td>-0.18470900  </td><td> 0.012381496 </td><td> 0.25718486  </td><td>-0.098907581 </td><td> 0.10967443  </td><td> 0.05566256  </td><td> 0.043423861 </td><td> 0.1585733909</td></tr>\n",
       "\t<tr><th scope=row>pH</th><td>-0.20069178  </td><td>-0.72750839  </td><td>-0.24410745  </td><td>-0.17655624  </td><td>-0.009437984 </td><td> 0.07146697  </td><td>-0.412923580 </td><td> 0.39475351  </td><td>-0.04080582  </td><td> 0.074428453 </td><td>-0.0309236167</td></tr>\n",
       "\t<tr><th scope=row>sulphates</th><td> 0.14159880  </td><td>-0.26050001  </td><td>-0.48573767  </td><td>-0.20503654  </td><td>-0.690675654 </td><td> 0.20541125  </td><td> 0.310919366 </td><td>-0.12842943  </td><td> 0.02013948  </td><td> 0.035419973 </td><td>-0.0075280399</td></tr>\n",
       "\t<tr><th scope=row>alcohol</th><td>-0.80170990  </td><td> 0.01008307  </td><td>-0.10420915  </td><td> 0.35551197  </td><td>-0.161735279 </td><td> 0.03598566  </td><td>-0.007997255 </td><td> 0.04386029  </td><td>-0.41947915  </td><td>-0.076449403 </td><td> 0.0930754728</td></tr>\n",
       "</tbody>\n",
       "</table>\n"
      ],
      "text/latex": [
       "\\begin{tabular}{r|lllllllllll}\n",
       "  & PC1 & PC2 & PC3 & PC4 & PC5 & PC6 & PC7 & PC8 & PC9 & PC10 & PC11\\\\\n",
       "\\hline\n",
       "\tfixed.acidity &  0.29354504   &  0.75971507   & -0.06766687   &  0.03701085   & -0.217819460  & -0.03728159   &  0.109801984  &  0.50338128   & -0.08385318   &  0.087624485  & -0.0414955456\\\\\n",
       "\tvolatile.acidity &  0.02048423   & -0.12296846   &  0.66297311   &  0.27084220   & -0.593731142  & -0.19565854   & -0.239239231  & -0.04216277   &  0.08972113   &  0.117074058  &  0.0014327609\\\\\n",
       "\tcitric.acid &  0.20097285   &  0.48864234   & -0.57347751   &  0.14173859   & -0.111274505  & -0.07343847   & -0.542559081  & -0.23895621   &  0.05109027   &  0.004029638  & -0.0004338972\\\\\n",
       "\tresidual.sugar &  0.71504261   & -0.03470278   &  0.24040077   &  0.17052835   &  0.034406672  &  0.52771653   & -0.111840653  & -0.13142638   & -0.28922509   & -0.022403713  & -0.0838717923\\\\\n",
       "\tchlorides &  0.59829802   & -0.07627931   &  0.04669522   & -0.48427771   & -0.021073697  & -0.51016617   & -0.021643144  & -0.11751191   & -0.35178807   &  0.027254222  & -0.0051841025\\\\\n",
       "\tfree.sulfur.dioxide &  0.53940890   & -0.31274677   & -0.28134947   &  0.56888721   &  0.210775349  & -0.18084137   &  0.188205734  & -0.02221235   & -0.02698854   &  0.307584794  &  0.0074757780\\\\\n",
       "\ttotal.sulfur.dioxide &  0.73969760   & -0.27502368   & -0.11425334   &  0.35634784   & -0.097751385  & -0.22435141   &  0.040904543  &  0.14824423   &  0.06232445   & -0.386931297  & -0.0057653229\\\\\n",
       "\tdensity &  0.91455240   &  0.02498947   &  0.10302426   & -0.18470900   &  0.012381496  &  0.25718486   & -0.098907581  &  0.10967443   &  0.05566256   &  0.043423861  &  0.1585733909\\\\\n",
       "\tpH & -0.20069178   & -0.72750839   & -0.24410745   & -0.17655624   & -0.009437984  &  0.07146697   & -0.412923580  &  0.39475351   & -0.04080582   &  0.074428453  & -0.0309236167\\\\\n",
       "\tsulphates &  0.14159880   & -0.26050001   & -0.48573767   & -0.20503654   & -0.690675654  &  0.20541125   &  0.310919366  & -0.12842943   &  0.02013948   &  0.035419973  & -0.0075280399\\\\\n",
       "\talcohol & -0.80170990   &  0.01008307   & -0.10420915   &  0.35551197   & -0.161735279  &  0.03598566   & -0.007997255  &  0.04386029   & -0.41947915   & -0.076449403  &  0.0930754728\\\\\n",
       "\\end{tabular}\n"
      ],
      "text/markdown": [
       "\n",
       "| <!--/--> | PC1 | PC2 | PC3 | PC4 | PC5 | PC6 | PC7 | PC8 | PC9 | PC10 | PC11 | \n",
       "|---|---|---|---|---|---|---|---|---|---|---|\n",
       "| fixed.acidity |  0.29354504   |  0.75971507   | -0.06766687   |  0.03701085   | -0.217819460  | -0.03728159   |  0.109801984  |  0.50338128   | -0.08385318   |  0.087624485  | -0.0414955456 | \n",
       "| volatile.acidity |  0.02048423   | -0.12296846   |  0.66297311   |  0.27084220   | -0.593731142  | -0.19565854   | -0.239239231  | -0.04216277   |  0.08972113   |  0.117074058  |  0.0014327609 | \n",
       "| citric.acid |  0.20097285   |  0.48864234   | -0.57347751   |  0.14173859   | -0.111274505  | -0.07343847   | -0.542559081  | -0.23895621   |  0.05109027   |  0.004029638  | -0.0004338972 | \n",
       "| residual.sugar |  0.71504261   | -0.03470278   |  0.24040077   |  0.17052835   |  0.034406672  |  0.52771653   | -0.111840653  | -0.13142638   | -0.28922509   | -0.022403713  | -0.0838717923 | \n",
       "| chlorides |  0.59829802   | -0.07627931   |  0.04669522   | -0.48427771   | -0.021073697  | -0.51016617   | -0.021643144  | -0.11751191   | -0.35178807   |  0.027254222  | -0.0051841025 | \n",
       "| free.sulfur.dioxide |  0.53940890   | -0.31274677   | -0.28134947   |  0.56888721   |  0.210775349  | -0.18084137   |  0.188205734  | -0.02221235   | -0.02698854   |  0.307584794  |  0.0074757780 | \n",
       "| total.sulfur.dioxide |  0.73969760   | -0.27502368   | -0.11425334   |  0.35634784   | -0.097751385  | -0.22435141   |  0.040904543  |  0.14824423   |  0.06232445   | -0.386931297  | -0.0057653229 | \n",
       "| density |  0.91455240   |  0.02498947   |  0.10302426   | -0.18470900   |  0.012381496  |  0.25718486   | -0.098907581  |  0.10967443   |  0.05566256   |  0.043423861  |  0.1585733909 | \n",
       "| pH | -0.20069178   | -0.72750839   | -0.24410745   | -0.17655624   | -0.009437984  |  0.07146697   | -0.412923580  |  0.39475351   | -0.04080582   |  0.074428453  | -0.0309236167 | \n",
       "| sulphates |  0.14159880   | -0.26050001   | -0.48573767   | -0.20503654   | -0.690675654  |  0.20541125   |  0.310919366  | -0.12842943   |  0.02013948   |  0.035419973  | -0.0075280399 | \n",
       "| alcohol | -0.80170990   |  0.01008307   | -0.10420915   |  0.35551197   | -0.161735279  |  0.03598566   | -0.007997255  |  0.04386029   | -0.41947915   | -0.076449403  |  0.0930754728 | \n",
       "\n",
       "\n"
      ],
      "text/plain": [
       "                     PC1         PC2         PC3         PC4        \n",
       "fixed.acidity         0.29354504  0.75971507 -0.06766687  0.03701085\n",
       "volatile.acidity      0.02048423 -0.12296846  0.66297311  0.27084220\n",
       "citric.acid           0.20097285  0.48864234 -0.57347751  0.14173859\n",
       "residual.sugar        0.71504261 -0.03470278  0.24040077  0.17052835\n",
       "chlorides             0.59829802 -0.07627931  0.04669522 -0.48427771\n",
       "free.sulfur.dioxide   0.53940890 -0.31274677 -0.28134947  0.56888721\n",
       "total.sulfur.dioxide  0.73969760 -0.27502368 -0.11425334  0.35634784\n",
       "density               0.91455240  0.02498947  0.10302426 -0.18470900\n",
       "pH                   -0.20069178 -0.72750839 -0.24410745 -0.17655624\n",
       "sulphates             0.14159880 -0.26050001 -0.48573767 -0.20503654\n",
       "alcohol              -0.80170990  0.01008307 -0.10420915  0.35551197\n",
       "                     PC5          PC6         PC7          PC8        \n",
       "fixed.acidity        -0.217819460 -0.03728159  0.109801984  0.50338128\n",
       "volatile.acidity     -0.593731142 -0.19565854 -0.239239231 -0.04216277\n",
       "citric.acid          -0.111274505 -0.07343847 -0.542559081 -0.23895621\n",
       "residual.sugar        0.034406672  0.52771653 -0.111840653 -0.13142638\n",
       "chlorides            -0.021073697 -0.51016617 -0.021643144 -0.11751191\n",
       "free.sulfur.dioxide   0.210775349 -0.18084137  0.188205734 -0.02221235\n",
       "total.sulfur.dioxide -0.097751385 -0.22435141  0.040904543  0.14824423\n",
       "density               0.012381496  0.25718486 -0.098907581  0.10967443\n",
       "pH                   -0.009437984  0.07146697 -0.412923580  0.39475351\n",
       "sulphates            -0.690675654  0.20541125  0.310919366 -0.12842943\n",
       "alcohol              -0.161735279  0.03598566 -0.007997255  0.04386029\n",
       "                     PC9         PC10         PC11         \n",
       "fixed.acidity        -0.08385318  0.087624485 -0.0414955456\n",
       "volatile.acidity      0.08972113  0.117074058  0.0014327609\n",
       "citric.acid           0.05109027  0.004029638 -0.0004338972\n",
       "residual.sugar       -0.28922509 -0.022403713 -0.0838717923\n",
       "chlorides            -0.35178807  0.027254222 -0.0051841025\n",
       "free.sulfur.dioxide  -0.02698854  0.307584794  0.0074757780\n",
       "total.sulfur.dioxide  0.06232445 -0.386931297 -0.0057653229\n",
       "density               0.05566256  0.043423861  0.1585733909\n",
       "pH                   -0.04080582  0.074428453 -0.0309236167\n",
       "sulphates             0.02013948  0.035419973 -0.0075280399\n",
       "alcohol              -0.41947915 -0.076449403  0.0930754728"
      ]
     },
     "metadata": {},
     "output_type": "display_data"
    }
   ],
   "source": [
    "source(\"PCA_functions.R\")\n",
    "my.pca.results<-my.pca(normal.whites)\n",
    "my.pca.results$summary\n",
    "my.pca.results$loadings"
   ]
  },
  {
   "cell_type": "code",
   "execution_count": 31,
   "metadata": {},
   "outputs": [
    {
     "name": "stdout",
     "output_type": "stream",
     "text": [
      "All 4898 observations are valid.\n"
     ]
    },
    {
     "data": {
      "text/html": [
       "<table>\n",
       "<thead><tr><th></th><th scope=col>Eigenvalues</th><th scope=col>% explained</th><th scope=col>% explained cum.</th></tr></thead>\n",
       "<tbody>\n",
       "\t<tr><th scope=row>PC1</th><td>1.6225  </td><td>54.0819 </td><td> 54.0819</td></tr>\n",
       "\t<tr><th scope=row>PC2</th><td>0.8518  </td><td>28.3928 </td><td> 82.4747</td></tr>\n",
       "\t<tr><th scope=row>PC3</th><td>0.5258  </td><td>17.5254 </td><td>100.0001</td></tr>\n",
       "</tbody>\n",
       "</table>\n"
      ],
      "text/latex": [
       "\\begin{tabular}{r|lll}\n",
       "  & Eigenvalues & \\% explained & \\% explained cum.\\\\\n",
       "\\hline\n",
       "\tPC1 & 1.6225   & 54.0819  &  54.0819\\\\\n",
       "\tPC2 & 0.8518   & 28.3928  &  82.4747\\\\\n",
       "\tPC3 & 0.5258   & 17.5254  & 100.0001\\\\\n",
       "\\end{tabular}\n"
      ],
      "text/markdown": [
       "\n",
       "| <!--/--> | Eigenvalues | % explained | % explained cum. | \n",
       "|---|---|---|\n",
       "| PC1 | 1.6225   | 54.0819  |  54.0819 | \n",
       "| PC2 | 0.8518   | 28.3928  |  82.4747 | \n",
       "| PC3 | 0.5258   | 17.5254  | 100.0001 | \n",
       "\n",
       "\n"
      ],
      "text/plain": [
       "    Eigenvalues % explained % explained cum.\n",
       "PC1 1.6225      54.0819      54.0819        \n",
       "PC2 0.8518      28.3928      82.4747        \n",
       "PC3 0.5258      17.5254     100.0001        "
      ]
     },
     "metadata": {},
     "output_type": "display_data"
    },
    {
     "data": {
      "text/html": [
       "<table>\n",
       "<thead><tr><th></th><th scope=col>PC1</th><th scope=col>PC2</th><th scope=col>PC3</th></tr></thead>\n",
       "<tbody>\n",
       "\t<tr><th scope=row>fixed.acidity</th><td>-0.8343785 </td><td>-0.09768861</td><td> 0.5424661 </td></tr>\n",
       "\t<tr><th scope=row>citric.acid</th><td>-0.6131794 </td><td> 0.75830068</td><td>-0.2213392 </td></tr>\n",
       "\t<tr><th scope=row>pH</th><td> 0.7418082 </td><td> 0.51693300</td><td> 0.4272013 </td></tr>\n",
       "</tbody>\n",
       "</table>\n"
      ],
      "text/latex": [
       "\\begin{tabular}{r|lll}\n",
       "  & PC1 & PC2 & PC3\\\\\n",
       "\\hline\n",
       "\tfixed.acidity & -0.8343785  & -0.09768861 &  0.5424661 \\\\\n",
       "\tcitric.acid & -0.6131794  &  0.75830068 & -0.2213392 \\\\\n",
       "\tpH &  0.7418082  &  0.51693300 &  0.4272013 \\\\\n",
       "\\end{tabular}\n"
      ],
      "text/markdown": [
       "\n",
       "| <!--/--> | PC1 | PC2 | PC3 | \n",
       "|---|---|---|\n",
       "| fixed.acidity | -0.8343785  | -0.09768861 |  0.5424661  | \n",
       "| citric.acid | -0.6131794  |  0.75830068 | -0.2213392  | \n",
       "| pH |  0.7418082  |  0.51693300 |  0.4272013  | \n",
       "\n",
       "\n"
      ],
      "text/plain": [
       "              PC1        PC2         PC3       \n",
       "fixed.acidity -0.8343785 -0.09768861  0.5424661\n",
       "citric.acid   -0.6131794  0.75830068 -0.2213392\n",
       "pH             0.7418082  0.51693300  0.4272013"
      ]
     },
     "metadata": {},
     "output_type": "display_data"
    }
   ],
   "source": [
    "source(\"PCA_functions.R\")\n",
    "acid.pca.white<-my.pca(normal.whites[,c(\"fixed.acidity\",\"citric.acid\",\"pH\")])\n",
    "acid.pca.white$summary\n",
    "acid.pca.white$loadings"
   ]
  },
  {
   "cell_type": "code",
   "execution_count": 23,
   "metadata": {},
   "outputs": [
    {
     "name": "stdout",
     "output_type": "stream",
     "text": [
      "All 4898 observations are valid.\n"
     ]
    },
    {
     "data": {
      "text/html": [
       "<table>\n",
       "<thead><tr><th></th><th scope=col>Eigenvalues</th><th scope=col>% explained</th><th scope=col>% explained cum.</th></tr></thead>\n",
       "<tbody>\n",
       "\t<tr><th scope=row>PC1</th><td>1.6221  </td><td>81.1048 </td><td> 81.1048</td></tr>\n",
       "\t<tr><th scope=row>PC2</th><td>0.3779  </td><td>18.8952 </td><td>100.0000</td></tr>\n",
       "</tbody>\n",
       "</table>\n"
      ],
      "text/latex": [
       "\\begin{tabular}{r|lll}\n",
       "  & Eigenvalues & \\% explained & \\% explained cum.\\\\\n",
       "\\hline\n",
       "\tPC1 & 1.6221   & 81.1048  &  81.1048\\\\\n",
       "\tPC2 & 0.3779   & 18.8952  & 100.0000\\\\\n",
       "\\end{tabular}\n"
      ],
      "text/markdown": [
       "\n",
       "| <!--/--> | Eigenvalues | % explained | % explained cum. | \n",
       "|---|---|\n",
       "| PC1 | 1.6221   | 81.1048  |  81.1048 | \n",
       "| PC2 | 0.3779   | 18.8952  | 100.0000 | \n",
       "\n",
       "\n"
      ],
      "text/plain": [
       "    Eigenvalues % explained % explained cum.\n",
       "PC1 1.6221      81.1048      81.1048        \n",
       "PC2 0.3779      18.8952     100.0000        "
      ]
     },
     "metadata": {},
     "output_type": "display_data"
    },
    {
     "data": {
      "text/html": [
       "<table>\n",
       "<thead><tr><th></th><th scope=col>PC1</th><th scope=col>PC2</th></tr></thead>\n",
       "<tbody>\n",
       "\t<tr><th scope=row>free.sulfur.dioxide</th><td>0.900582  </td><td>-0.4346861</td></tr>\n",
       "\t<tr><th scope=row>total.sulfur.dioxide</th><td>0.900582  </td><td> 0.4346861</td></tr>\n",
       "</tbody>\n",
       "</table>\n"
      ],
      "text/latex": [
       "\\begin{tabular}{r|ll}\n",
       "  & PC1 & PC2\\\\\n",
       "\\hline\n",
       "\tfree.sulfur.dioxide & 0.900582   & -0.4346861\\\\\n",
       "\ttotal.sulfur.dioxide & 0.900582   &  0.4346861\\\\\n",
       "\\end{tabular}\n"
      ],
      "text/markdown": [
       "\n",
       "| <!--/--> | PC1 | PC2 | \n",
       "|---|---|\n",
       "| free.sulfur.dioxide | 0.900582   | -0.4346861 | \n",
       "| total.sulfur.dioxide | 0.900582   |  0.4346861 | \n",
       "\n",
       "\n"
      ],
      "text/plain": [
       "                     PC1      PC2       \n",
       "free.sulfur.dioxide  0.900582 -0.4346861\n",
       "total.sulfur.dioxide 0.900582  0.4346861"
      ]
     },
     "metadata": {},
     "output_type": "display_data"
    }
   ],
   "source": [
    "source(\"PCA_functions.R\")\n",
    "acid.pca.white<-my.pca(normal.whites[,c(\"free.sulfur.dioxide\",\"total.sulfur.dioxide\")])\n",
    "acid.pca.white$summary\n",
    "acid.pca.white$loadings"
   ]
  },
  {
   "cell_type": "code",
   "execution_count": null,
   "metadata": {},
   "outputs": [],
   "source": []
  }
 ],
 "metadata": {
  "kernelspec": {
   "display_name": "R",
   "language": "R",
   "name": "ir"
  },
  "language_info": {
   "codemirror_mode": "r",
   "file_extension": ".r",
   "mimetype": "text/x-r-source",
   "name": "R",
   "pygments_lexer": "r",
   "version": "3.4.3"
  }
 },
 "nbformat": 4,
 "nbformat_minor": 2
}
